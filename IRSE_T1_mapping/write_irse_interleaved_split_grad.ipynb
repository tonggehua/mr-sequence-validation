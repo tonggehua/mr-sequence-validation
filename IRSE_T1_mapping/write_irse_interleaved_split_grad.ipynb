{
  "nbformat": 4,
  "nbformat_minor": 0,
  "metadata": {
    "colab": {
      "name": "write_irse_interleaved_split_grad.ipynb",
      "provenance": [],
      "collapsed_sections": [],
      "toc_visible": true
    },
    "kernelspec": {
      "name": "python3",
      "display_name": "Python 3"
    }
  },
  "cells": [
    {
      "cell_type": "markdown",
      "metadata": {
        "id": "dbthhqbYo5n2"
      },
      "source": [
        "# Inversion-Recovery Spin Echo (IRSE) Sequence \r\n",
        "This script can be used for both qualitative and quantitative acquisitions.\r\n",
        "Input custom parameters to the function `irse_interleaved_split_gradient` to obtain the PyPulseq `seq` obejct. It can then be downloaded after running `seq.write()`. \r\n",
        "* The sequence uses an interleaved multislice scheme with random slice order\r\n",
        "* Gradients are split in order to merge adjacent gradient ramps to save time\r\n",
        "* Change TI and use a long TR for T1 mapping purposes\r\n",
        "\r\n",
        "Questions regarding the sequence itself should be directed to gt2407@columbia.edu;  if you have questions about the PyPulseq package, seek resolution at its own repository (https://github.com/imr-framework/pypulseq/).\r\n"
      ]
    },
    {
      "cell_type": "markdown",
      "metadata": {
        "id": "hwNVvUHc5xdq"
      },
      "source": [
        "## **INSTALLATION**"
      ]
    },
    {
      "cell_type": "code",
      "metadata": {
        "id": "yr7x-LSjFtIo",
        "colab": {
          "base_uri": "https://localhost:8080/"
        },
        "outputId": "1b3ae902-6ba6-47c0-be76-6f1f1349a122"
      },
      "source": [
        "# Install latest dev build of pypulseq\n",
        "!pip install git+https://github.com/imr-framework/pypulseq.git@1.2.0post4"
      ],
      "execution_count": 2,
      "outputs": [
        {
          "output_type": "stream",
          "text": [
            "Collecting git+https://github.com/imr-framework/pypulseq.git@master\n",
            "  Cloning https://github.com/imr-framework/pypulseq.git (to revision master) to /tmp/pip-req-build-c3ywwp8m\n",
            "  Running command git clone -q https://github.com/imr-framework/pypulseq.git /tmp/pip-req-build-c3ywwp8m\n",
            "Requirement already satisfied (use --upgrade to upgrade): pypulseq==1.2.0.post4 from git+https://github.com/imr-framework/pypulseq.git@master in /usr/local/lib/python3.6/dist-packages\n",
            "Requirement already satisfied: matplotlib>=3.0.3 in /usr/local/lib/python3.6/dist-packages (from pypulseq==1.2.0.post4) (3.2.2)\n",
            "Requirement already satisfied: numpy>=1.16.3 in /usr/local/lib/python3.6/dist-packages (from pypulseq==1.2.0.post4) (1.19.5)\n",
            "Requirement already satisfied: scipy>=1.4.1 in /usr/local/lib/python3.6/dist-packages (from pypulseq==1.2.0.post4) (1.4.1)\n",
            "Requirement already satisfied: python-dateutil>=2.1 in /usr/local/lib/python3.6/dist-packages (from matplotlib>=3.0.3->pypulseq==1.2.0.post4) (2.8.1)\n",
            "Requirement already satisfied: kiwisolver>=1.0.1 in /usr/local/lib/python3.6/dist-packages (from matplotlib>=3.0.3->pypulseq==1.2.0.post4) (1.3.1)\n",
            "Requirement already satisfied: pyparsing!=2.0.4,!=2.1.2,!=2.1.6,>=2.0.1 in /usr/local/lib/python3.6/dist-packages (from matplotlib>=3.0.3->pypulseq==1.2.0.post4) (2.4.7)\n",
            "Requirement already satisfied: cycler>=0.10 in /usr/local/lib/python3.6/dist-packages (from matplotlib>=3.0.3->pypulseq==1.2.0.post4) (0.10.0)\n",
            "Requirement already satisfied: six>=1.5 in /usr/local/lib/python3.6/dist-packages (from python-dateutil>=2.1->matplotlib>=3.0.3->pypulseq==1.2.0.post4) (1.15.0)\n",
            "Building wheels for collected packages: pypulseq\n",
            "  Building wheel for pypulseq (setup.py) ... \u001b[?25l\u001b[?25hdone\n",
            "  Created wheel for pypulseq: filename=pypulseq-1.2.0.post4-cp36-none-any.whl size=72280 sha256=4d9c725453ef3cef956a2f39d57d0491908b2280630c82081dec8eb153d300e6\n",
            "  Stored in directory: /tmp/pip-ephem-wheel-cache-twpyf5n1/wheels/26/11/3a/72a41349df5d935cb208edcf473d3963f649d788a439cd179a\n",
            "Successfully built pypulseq\n"
          ],
          "name": "stdout"
        }
      ]
    },
    {
      "cell_type": "markdown",
      "metadata": {
        "id": "Y0p8jkXA-tVM"
      },
      "source": [
        "Run the following section twice to correctly import all modules"
      ]
    },
    {
      "cell_type": "code",
      "metadata": {
        "id": "IKLpSBzmMYu9"
      },
      "source": [
        "from math import pi\n",
        "\n",
        "import numpy as np\n",
        "\n",
        "from pypulseq.Sequence.sequence import Sequence\n",
        "from pypulseq.calc_duration import calc_duration\n",
        "from pypulseq.make_adc import make_adc\n",
        "from pypulseq.make_delay import make_delay\n",
        "from pypulseq.make_sinc_pulse import make_sinc_pulse\n",
        "from pypulseq.make_trap_pulse import make_trapezoid\n",
        "from pypulseq.make_extended_trapezoid import make_extended_trapezoid\n",
        "from pypulseq.calc_rf_center import calc_rf_center\n",
        "from pypulseq.opts import Opts"
      ],
      "execution_count": 4,
      "outputs": []
    },
    {
      "cell_type": "markdown",
      "metadata": {
        "id": "Ienj2x-jOe0S"
      },
      "source": [
        "## **FUNCTION FOR CUSTOM IRSE SEQUENCE**\n",
        "See following sections for usage examples and generate your own sequence.\n"
      ]
    },
    {
      "cell_type": "code",
      "metadata": {
        "id": "-xGPthflm1pX"
      },
      "source": [
        "# =========\n",
        "# INTERLEAVED WITH IR\n",
        "# GT, 07/31/20\n",
        "# =========\n",
        "def irse_interleaved_split_gradient(fov:float, n_slices:int, rf_flip:int, slice_thickness:float, \n",
        "                   Nx:int, Ny:int, TE:float, TR:float, TI:float, enc='xyz', slice_locations=None):\n",
        "    \"\"\"\n",
        "    INPUTS\n",
        "    ------\n",
        "    fov : Field-of-View (m)\n",
        "    n_slices : number of slices \n",
        "    rf_flip : refocusing/inverting flip angle in degrees (just set this to 180)\n",
        "    slice_thickness : in meters\n",
        "    Nx, Ny : matrix size\n",
        "    TE : Echo Time (seconds)\n",
        "    TR : Repetition Time (seconds)\n",
        "    TI : Inversion Time (seconds)\n",
        "    enc : default 'xyz' means readout in x, phase encoding in y and slice in z \n",
        "    slice_locations : array of slice locations from isocenter, in meters   \n",
        "    \"\"\"\n",
        "\n",
        "    # =========\n",
        "    # SYSTEM LIMITS\n",
        "    # =========\n",
        "    # Set the hardware limits and initialize sequence object\n",
        "    dG = 250e-6 # Fixed ramp time for all gradients\n",
        "    system = Opts(max_grad=32, grad_unit='mT/m', max_slew=130, slew_unit='T/m/s', \n",
        "                  rf_ringdown_time=100e-6, rf_dead_time=100e-6, \n",
        "                  adc_dead_time=10e-6)\n",
        "    seq = Sequence(system)\n",
        "\n",
        "    # =========\n",
        "    # TIME CALCULATIONS\n",
        "    # =========\n",
        "    readout_time = 6.4e-3 + 2 * system.adc_dead_time\n",
        "    t_ex = 2.5e-3\n",
        "    t_exwd = t_ex + system.rf_ringdown_time + system.rf_dead_time\n",
        "    t_ref = 2e-3\n",
        "    t_refwd = t_ref + system.rf_ringdown_time + system.rf_dead_time\n",
        "    t_sp = 0.5 * (TE - readout_time - t_refwd)\n",
        "    t_spex = 0.5 * (TE - t_exwd - t_refwd)\n",
        "    fsp_r = 1\n",
        "    fsp_s = 0.5\n",
        "\n",
        "    # =========\n",
        "    # ENCODING DIRECTIONS\n",
        "    # ==========\n",
        "    ch_ro = enc[0]\n",
        "    ch_pe = enc[1]\n",
        "    ch_ss = enc[2]\n",
        "\n",
        "\n",
        "    # =========\n",
        "    # RF AND GRADIENT SHAPES - BASED ON RESOLUTION REQUIREMENTS : kmax and Npe\n",
        "    # =========\n",
        "\n",
        "    # RF Phases\n",
        "    rf_ex_phase = np.pi / 2\n",
        "    rf_ref_phase = 0\n",
        "\n",
        "   # Excitation phase (90 deg)\n",
        "    flip_ex = 90 * np.pi / 180\n",
        "    rf_ex, gz, _ = make_sinc_pulse(flip_angle=flip_ex, system=system, duration=t_ex, slice_thickness=slice_thickness,\n",
        "                                  apodization=0.5, time_bw_product=4, phase_offset=rf_ex_phase)\n",
        "    gs_ex = make_trapezoid(channel=ch_ss, system=system, amplitude=gz.amplitude, flat_time=t_exwd, rise_time=dG)\n",
        "\n",
        "    # Refocusing (same gradient & RF is used for initial inversion)\n",
        "    flip_ref = rf_flip * np.pi / 180\n",
        "    rf_ref, gz, _ = make_sinc_pulse(flip_angle=flip_ref, system=system, duration=t_ref, slice_thickness=slice_thickness,\n",
        "                                    apodization=0.5, time_bw_product=4, phase_offset=rf_ref_phase, use='refocusing')\n",
        "    gs_ref = make_trapezoid(channel=ch_ss, system=system, amplitude=gs_ex.amplitude, flat_time=t_refwd, rise_time=dG)\n",
        "\n",
        "    ags_ex = gs_ex.area / 2\n",
        "    gs_spr = make_trapezoid(channel=ch_ss, system=system, area=ags_ex * (1 + fsp_s), duration=t_sp, rise_time=dG)\n",
        "    gs_spex = make_trapezoid(channel=ch_ss, system=system, area=ags_ex * fsp_s, duration=t_spex, rise_time=dG)\n",
        "\n",
        "    delta_k = 1 / fov\n",
        "    k_width = Nx * delta_k\n",
        "\n",
        "    gr_acq = make_trapezoid(channel=ch_ro, system=system, flat_area=k_width, flat_time=readout_time, rise_time=dG)\n",
        "    adc = make_adc(num_samples=Nx, duration=gr_acq.flat_time - 40e-6, delay=20e-6)\n",
        "    gr_spr = make_trapezoid(channel=ch_ro, system=system, area=gr_acq.area * fsp_r, duration=t_sp, rise_time=dG)\n",
        "    gr_spex = make_trapezoid(channel=ch_ro, system=system, area=gr_acq.area * (1 + fsp_r), duration=t_spex, rise_time=dG)\n",
        "\n",
        "    agr_spr = gr_spr.area\n",
        "    agr_preph = gr_acq.area / 2 + agr_spr\n",
        "    gr_preph = make_trapezoid(channel=ch_ro, system=system, area=agr_preph, duration=t_spex, rise_time=dG)\n",
        "\n",
        "    phase_areas = (np.arange(Ny) - Ny / 2) * delta_k\n",
        "\n",
        "    # Split gradients and recombine into blocks\n",
        "    gs1_times = [0, gs_ex.rise_time]\n",
        "    gs1_amp = [0, gs_ex.amplitude]\n",
        "    gs1 = make_extended_trapezoid(channel=ch_ss, times=gs1_times, amplitudes=gs1_amp)\n",
        "\n",
        "    gs2_times = [0, gs_ex.flat_time]\n",
        "    gs2_amp = [gs_ex.amplitude, gs_ex.amplitude]\n",
        "    gs2 = make_extended_trapezoid(channel=ch_ss, times=gs2_times, amplitudes=gs2_amp)\n",
        "\n",
        "    gs3_times = [0, gs_spex.rise_time, gs_spex.rise_time + gs_spex.flat_time,\n",
        "                gs_spex.rise_time + gs_spex.flat_time + gs_spex.fall_time]\n",
        "    gs3_amp = [gs_ex.amplitude, gs_spex.amplitude, gs_spex.amplitude, gs_ref.amplitude]\n",
        "    gs3 = make_extended_trapezoid(channel=ch_ss, times=gs3_times, amplitudes=gs3_amp)\n",
        "\n",
        "    gs4_times = [0, gs_ref.flat_time]\n",
        "    gs4_amp = [gs_ref.amplitude, gs_ref.amplitude]\n",
        "    gs4 = make_extended_trapezoid(channel=ch_ss, times=gs4_times, amplitudes=gs4_amp)\n",
        "\n",
        "    gs5_times = [0, gs_spr.rise_time, gs_spr.rise_time + gs_spr.flat_time,\n",
        "                gs_spr.rise_time + gs_spr.flat_time + gs_spr.fall_time]\n",
        "    gs5_amp = [gs_ref.amplitude, gs_spr.amplitude, gs_spr.amplitude, 0]\n",
        "    gs5 = make_extended_trapezoid(channel=ch_ss, times=gs5_times, amplitudes=gs5_amp)\n",
        "\n",
        "    gs7_times = [0, gs_spr.rise_time, gs_spr.rise_time + gs_spr.flat_time,\n",
        "                gs_spr.rise_time + gs_spr.flat_time + gs_spr.fall_time]\n",
        "    gs7_amp = [0, gs_spr.amplitude, gs_spr.amplitude, gs_ref.amplitude]\n",
        "    gs7 = make_extended_trapezoid(channel=ch_ss, times=gs7_times, amplitudes=gs7_amp)\n",
        "\n",
        "    gr3 = gr_preph\n",
        "\n",
        "    gr5_times = [0, gr_spr.rise_time, gr_spr.rise_time + gr_spr.flat_time,\n",
        "                gr_spr.rise_time + gr_spr.flat_time + gr_spr.fall_time]\n",
        "    gr5_amp = [0, gr_spr.amplitude, gr_spr.amplitude, gr_acq.amplitude]\n",
        "    gr5 = make_extended_trapezoid(channel=ch_ro, times=gr5_times, amplitudes=gr5_amp)\n",
        "\n",
        "    gr6_times = [0, readout_time]\n",
        "    gr6_amp = [gr_acq.amplitude, gr_acq.amplitude]\n",
        "    gr6 = make_extended_trapezoid(channel=ch_ro, times=gr6_times, amplitudes=gr6_amp)\n",
        "\n",
        "    gr7_times = [0, gr_spr.rise_time, gr_spr.rise_time + gr_spr.flat_time,\n",
        "                gr_spr.rise_time + gr_spr.flat_time + gr_spr.fall_time]\n",
        "    gr7_amp = [gr_acq.amplitude, gr_spr.amplitude, gr_spr.amplitude, 0]\n",
        "    gr7 = make_extended_trapezoid(channel=ch_ro, times=gr7_times, amplitudes=gr7_amp)\n",
        "\n",
        "    t_ex = gs1.t[-1] + gs2.t[-1] + gs3.t[-1]\n",
        "    t_ref = gs4.t[-1] + gs5.t[-1] + gs7.t[-1] + readout_time\n",
        "    t_end = gs4.t[-1] + gs5.t[-1]\n",
        "\n",
        "\n",
        "\n",
        "\n",
        "    # =========\n",
        "    # NUMBER OF SLICES PER TR - ADAPT TO HIGHER TR IF IT DOES NOT FIT\n",
        "    # =========\n",
        "\n",
        "\n",
        "    # 1. Without spoilers on each side \n",
        "    TE_prime = 0.5* calc_duration(gs_ref) + TI + TE + 0.5 * readout_time + np.max([calc_duration(gs7), calc_duration(gr7)]) + \\\n",
        "               calc_duration(gs4) + calc_duration(gs5)  \n",
        "    \n",
        "    # 2. With spoilers on each side \n",
        "    #TE_prime = calc_duration(gs_inv_1) + 0.5 * calc_duration(gs_inv_2) + TI + TE + \\ \n",
        "    #           0.5 * readout_time + np.max([calc_duration(gs7), calc_duration(gr7)]) + \\\n",
        "    #           calc_duration(gs4) + calc_duration(gs5)  \n",
        "    \n",
        "    \n",
        "\n",
        "    ns_per_TR = np.floor(TR / TE_prime)\n",
        "    print('Number of slices that can be accommodated =' + str(ns_per_TR))\n",
        "\n",
        "    if (ns_per_TR < n_slices):\n",
        "      warnings.warn(f'TR too short, adapted to include all slices to: {n_slices * TE_prime + 50e-6} s')\n",
        "      TR = round(n_slices * TE_prime + 50e-6, ndigits=5)\n",
        "      print('New TR = ' + str(TR))\n",
        "      ns_per_TR = np.floor(TR / TE_prime)\n",
        "\n",
        "    if (n_slices < ns_per_TR):\n",
        "        ns_per_TR = n_slices\n",
        "\n",
        "    # randperm so that adjacent slices do not get excited one after the other - TODO : shuffling might be messy for visualization if not indexed\n",
        "    sl_order = np.random.permutation(n_slices)\n",
        "\n",
        "    print('Number of slices acquired per TR = ' + str(ns_per_TR))\n",
        "\n",
        "    # Delays\n",
        "    TI_fill = TI - (0.5*calc_duration(gs_ref) + calc_duration(gs1) + 0.5*calc_duration(gs2))\n",
        "    delay_TI = make_delay(TI_fill)\n",
        "    TR_fill = TR - ns_per_TR * TE_prime\n",
        "    delay_TR = make_delay(TR_fill)\n",
        "\n",
        "\n",
        "    if slice_locations is None:\n",
        "      slice_locations = slice_thickness * (np.arange(n_slices) - (n_slices-1)/2)\n",
        "\n",
        "\n",
        "    for k_ex in range(Ny):\n",
        "        phase_area = phase_areas[k_ex]\n",
        "        gp_pre = make_trapezoid(channel=ch_pe, system=system, area=phase_area, duration=t_sp, rise_time=dG)\n",
        "        gp_rew = make_trapezoid(channel=ch_pe, system=system, area=-phase_area, duration=t_sp, rise_time=dG)\n",
        "        s_in_TR = 0\n",
        "\n",
        "        for s in range(len(sl_order)):\n",
        "\n",
        "            #rf_ex.freq_offset = gs_ex.amplitude * slice_thickness * (sl_order[s] - (n_slices - 1) / 2)\n",
        "            #rf_ref.freq_offset = gs_ref.amplitude * slice_thickness * (sl_order[s] - (n_slices - 1) / 2)\n",
        "\n",
        "            rf_ex.freq_offset = gs_ex.amplitude * slice_locations[sl_order[s]]\n",
        "            rf_ref.freq_offset = gs_ref.amplitude * slice_locations[sl_order[s]]\n",
        "\n",
        "            rf_ex.phase_offset = rf_ex_phase - 2 * np.pi * rf_ex.freq_offset * calc_rf_center(rf_ex)[0]\n",
        "            rf_ref.phase_offset = rf_ref_phase - 2 * np.pi * rf_ref.freq_offset * calc_rf_center(rf_ref)[0]\n",
        "      \n",
        "            # Inversion using refocusing pulse \n",
        "            seq.add_block(gs_ref, rf_ref)\n",
        "            seq.add_block(delay_TI)\n",
        "\n",
        "            # SE portion \n",
        "            seq.add_block(gs1)\n",
        "            seq.add_block(gs2, rf_ex)\n",
        "            seq.add_block(gs3, gr3)\n",
        "\n",
        "            seq.add_block(gs4, rf_ref)\n",
        "\n",
        "            seq.add_block(gs5, gr5, gp_pre)\n",
        "            seq.add_block(gr6, adc)\n",
        "\n",
        "            seq.add_block(gs7, gr7, gp_rew)\n",
        "\n",
        "            seq.add_block(gs4)\n",
        "            seq.add_block(gs5)\n",
        "            s_in_TR += 1\n",
        "            if (s_in_TR == ns_per_TR):\n",
        "                seq.add_block(delay_TR)\n",
        "                s_in_TR = 0\n",
        "\n",
        "    return seq, sl_order"
      ],
      "execution_count": 5,
      "outputs": []
    },
    {
      "cell_type": "markdown",
      "metadata": {
        "id": "kE0Qn-ro8PKR"
      },
      "source": [
        "## RUN FUNCTION TO MAKE SEQUENCE \r\n",
        "Run one of the following three subsections to generate the the sequences used for the test experiments. "
      ]
    },
    {
      "cell_type": "markdown",
      "metadata": {
        "id": "81F6k2sU9Lte"
      },
      "source": [
        "### Simulation \r\n"
      ]
    },
    {
      "cell_type": "code",
      "metadata": {
        "id": "lsEn163NuPLJ",
        "colab": {
          "base_uri": "https://localhost:8080/"
        },
        "outputId": "a5b8af95-f3f6-4ab6-b09a-f37ca1310e1a"
      },
      "source": [
        "# For simulation\n",
        "n_slices = 1\n",
        "Nx = 32\n",
        "Ny = 32\n",
        "fov = 250 * 1e-3\n",
        "slice_thickness = 5 * 1e-3\n",
        "rf_flip = 180 # For some reason this value is used for refocusing pulse \n",
        "              # And excitation is fixed to 90 deg \n",
        "TE = 12 * 1e-3\n",
        "TR = 2000 * 1e-3\n",
        "TI = 100 * 1e-3\n",
        "\n",
        "enc='xyz' # Axial slices \n",
        "seq, sl_order = irse_interleaved_split_gradient(n_slices=n_slices, Nx=Nx, Ny=Ny, fov=fov, slice_thickness=slice_thickness,\n",
        "                                          rf_flip=rf_flip, TR=TR, TE=TE, TI=TI, enc=enc, slice_locations=[0])\n"
      ],
      "execution_count": 6,
      "outputs": [
        {
          "output_type": "stream",
          "text": [
            "Number of slices that can be accommodated =16.0\n",
            "Number of slices acquired per TR = 1\n"
          ],
          "name": "stdout"
        }
      ]
    },
    {
      "cell_type": "markdown",
      "metadata": {
        "id": "noDLaobc8T7-"
      },
      "source": [
        "### Qualitative (ACR slices)"
      ]
    },
    {
      "cell_type": "code",
      "metadata": {
        "id": "eziw-HpJeTkJ",
        "colab": {
          "base_uri": "https://localhost:8080/",
          "height": 85
        },
        "outputId": "e807296a-d029-48d0-9aab-31878dfd4dac"
      },
      "source": [
        "# Generate seqs for qualitative multislice scan (ACR phantom) \n",
        "from scipy.io import savemat\n",
        "Nx = 256\n",
        "Ny = 256\n",
        "fov = 250 * 1e-3\n",
        "thk = 5 * 1e-3\n",
        "gap = 5 * 1e-3 \n",
        "displacement = 5e-3 # 6th slice location after positioning \"nose\" mark at isocenter \n",
        "n_slices = 13 # 11 before; trying to get the extras \n",
        "L = (n_slices-1)*(thk+gap)\n",
        "acr_sl_locs = displacement + np.arange(-L/2, L/2 + thk + gap, thk + gap)\n",
        "print(acr_sl_locs)\n",
        "\n",
        "\n",
        "rf_flip = 180 # For some reason this value is used for refocusing pulse \n",
        "              # And excitation is fixed to 90 deg \n",
        "TE = 12 * 1e-3\n",
        "TR = 2000 * 1e-3\n",
        "TI = 100 * 1e-3 # change this!\n",
        "\n",
        "enc='xyz'\n",
        "seq, sl_order = irse_interleaved_split_gradient(n_slices=n_slices, Nx=Nx, Ny=Ny, fov=fov, slice_thickness=thk,\n",
        "                                          rf_flip=rf_flip, TR=TR, TE=TE, TI=TI, enc=enc, slice_locations=acr_sl_locs)\n",
        "savemat('irse_sl_order.mat',{'sl_order': sl_order})\n",
        "\n",
        "# Download slice order \n",
        "from google.colab import files\n",
        "files.download('irse_sl_order.mat')"
      ],
      "execution_count": 12,
      "outputs": [
        {
          "output_type": "stream",
          "text": [
            "[-0.055 -0.045 -0.035 -0.025 -0.015 -0.005  0.005  0.015  0.025  0.035\n",
            "  0.045  0.055  0.065]\n",
            "Number of slices that can be accommodated =16.0\n",
            "Number of slices acquired per TR = 13\n"
          ],
          "name": "stdout"
        },
        {
          "output_type": "display_data",
          "data": {
            "application/javascript": [
              "\n",
              "    async function download(id, filename, size) {\n",
              "      if (!google.colab.kernel.accessAllowed) {\n",
              "        return;\n",
              "      }\n",
              "      const div = document.createElement('div');\n",
              "      const label = document.createElement('label');\n",
              "      label.textContent = `Downloading \"${filename}\": `;\n",
              "      div.appendChild(label);\n",
              "      const progress = document.createElement('progress');\n",
              "      progress.max = size;\n",
              "      div.appendChild(progress);\n",
              "      document.body.appendChild(div);\n",
              "\n",
              "      const buffers = [];\n",
              "      let downloaded = 0;\n",
              "\n",
              "      const channel = await google.colab.kernel.comms.open(id);\n",
              "      // Send a message to notify the kernel that we're ready.\n",
              "      channel.send({})\n",
              "\n",
              "      for await (const message of channel.messages) {\n",
              "        // Send a message to notify the kernel that we're ready.\n",
              "        channel.send({})\n",
              "        if (message.buffers) {\n",
              "          for (const buffer of message.buffers) {\n",
              "            buffers.push(buffer);\n",
              "            downloaded += buffer.byteLength;\n",
              "            progress.value = downloaded;\n",
              "          }\n",
              "        }\n",
              "      }\n",
              "      const blob = new Blob(buffers, {type: 'application/binary'});\n",
              "      const a = document.createElement('a');\n",
              "      a.href = window.URL.createObjectURL(blob);\n",
              "      a.download = filename;\n",
              "      div.appendChild(a);\n",
              "      a.click();\n",
              "      div.remove();\n",
              "    }\n",
              "  "
            ],
            "text/plain": [
              "<IPython.core.display.Javascript object>"
            ]
          },
          "metadata": {
            "tags": []
          }
        },
        {
          "output_type": "display_data",
          "data": {
            "application/javascript": [
              "download(\"download_4083c6b8-105e-4df8-b701-205463975906\", \"irse_sl_order.mat\", 296)"
            ],
            "text/plain": [
              "<IPython.core.display.Javascript object>"
            ]
          },
          "metadata": {
            "tags": []
          }
        }
      ]
    },
    {
      "cell_type": "markdown",
      "metadata": {
        "id": "AihxPWQN3zrw"
      },
      "source": [
        "### T1 Mapping (NIST T1 array)"
      ]
    },
    {
      "cell_type": "code",
      "metadata": {
        "id": "jw-NygbuIdJP",
        "colab": {
          "base_uri": "https://localhost:8080/",
          "height": 360
        },
        "outputId": "4afb2ba3-7e16-4439-e0ee-c1042ab02ffc"
      },
      "source": [
        "# Generate seqs for T1 mapping \n",
        "# Set default values\n",
        "n_slices = 1\n",
        "Nx = 128\n",
        "Ny = 128\n",
        "fov = 250 * 1e-3\n",
        "slice_thickness = 6 * 1e-3\n",
        "rf_flip = 180 # For some reason this value is used for refocusing pulse \n",
        "              # And excitation is fixed to 90 deg \n",
        "TE = 10 * 1e-3\n",
        "TR = 4500 * 1e-3\n",
        "\n",
        "# Version without flanking spoilers on inversion \n",
        "TI_array = 1e-3 * np.array([50, 75, 100, 125, 150, 250, 1000, 1500, 2000, 3000])\n",
        "enc='yzx' # x-dir / sagittal slice (the order is readout, phase, slice)\n",
        "for TI in TI_array:\n",
        "  seq, __ = irse_interleaved_split_gradient(n_slices=n_slices, Nx=Nx, Ny=Ny, fov=fov, slice_thickness=slice_thickness,\n",
        "                                            rf_flip=rf_flip, TR=TR, TE=TE, TI=TI, enc=enc, slice_locations=[0.057])\n",
        "  save_name = f'irse_pypulseq_colab_{n_slices}slices_FOV{fov*1e3}_N{Nx}_TR{TR*1e3}_TE{TE*1e3}_TI{TI*1e3}_thk{slice_thickness*1e3}mm_enc_{enc}.seq'\n",
        "  seq.write(save_name)  # Generate .seq file\n",
        "  from google.colab import files\n",
        "  files.download(save_name)  # Download locally"
      ],
      "execution_count": 13,
      "outputs": [
        {
          "output_type": "stream",
          "text": [
            "Number of slices that can be accommodated =66.0\n",
            "Number of slices acquired per TR = 1\n"
          ],
          "name": "stdout"
        },
        {
          "output_type": "display_data",
          "data": {
            "application/javascript": [
              "\n",
              "    async function download(id, filename, size) {\n",
              "      if (!google.colab.kernel.accessAllowed) {\n",
              "        return;\n",
              "      }\n",
              "      const div = document.createElement('div');\n",
              "      const label = document.createElement('label');\n",
              "      label.textContent = `Downloading \"${filename}\": `;\n",
              "      div.appendChild(label);\n",
              "      const progress = document.createElement('progress');\n",
              "      progress.max = size;\n",
              "      div.appendChild(progress);\n",
              "      document.body.appendChild(div);\n",
              "\n",
              "      const buffers = [];\n",
              "      let downloaded = 0;\n",
              "\n",
              "      const channel = await google.colab.kernel.comms.open(id);\n",
              "      // Send a message to notify the kernel that we're ready.\n",
              "      channel.send({})\n",
              "\n",
              "      for await (const message of channel.messages) {\n",
              "        // Send a message to notify the kernel that we're ready.\n",
              "        channel.send({})\n",
              "        if (message.buffers) {\n",
              "          for (const buffer of message.buffers) {\n",
              "            buffers.push(buffer);\n",
              "            downloaded += buffer.byteLength;\n",
              "            progress.value = downloaded;\n",
              "          }\n",
              "        }\n",
              "      }\n",
              "      const blob = new Blob(buffers, {type: 'application/binary'});\n",
              "      const a = document.createElement('a');\n",
              "      a.href = window.URL.createObjectURL(blob);\n",
              "      a.download = filename;\n",
              "      div.appendChild(a);\n",
              "      a.click();\n",
              "      div.remove();\n",
              "    }\n",
              "  "
            ],
            "text/plain": [
              "<IPython.core.display.Javascript object>"
            ]
          },
          "metadata": {
            "tags": []
          }
        },
        {
          "output_type": "display_data",
          "data": {
            "application/javascript": [
              "download(\"download_0e6e84e4-895f-404a-bc79-428d60de5a16\", \"irse_pypulseq_colab_1slices_FOV250.0_N128_TR4500.0_TE10.0_TI50.0_thk6.0mm_enc_yzx.seq\", 97157)"
            ],
            "text/plain": [
              "<IPython.core.display.Javascript object>"
            ]
          },
          "metadata": {
            "tags": []
          }
        },
        {
          "output_type": "stream",
          "text": [
            "Number of slices that can be accommodated =48.0\n",
            "Number of slices acquired per TR = 1\n"
          ],
          "name": "stdout"
        },
        {
          "output_type": "display_data",
          "data": {
            "application/javascript": [
              "\n",
              "    async function download(id, filename, size) {\n",
              "      if (!google.colab.kernel.accessAllowed) {\n",
              "        return;\n",
              "      }\n",
              "      const div = document.createElement('div');\n",
              "      const label = document.createElement('label');\n",
              "      label.textContent = `Downloading \"${filename}\": `;\n",
              "      div.appendChild(label);\n",
              "      const progress = document.createElement('progress');\n",
              "      progress.max = size;\n",
              "      div.appendChild(progress);\n",
              "      document.body.appendChild(div);\n",
              "\n",
              "      const buffers = [];\n",
              "      let downloaded = 0;\n",
              "\n",
              "      const channel = await google.colab.kernel.comms.open(id);\n",
              "      // Send a message to notify the kernel that we're ready.\n",
              "      channel.send({})\n",
              "\n",
              "      for await (const message of channel.messages) {\n",
              "        // Send a message to notify the kernel that we're ready.\n",
              "        channel.send({})\n",
              "        if (message.buffers) {\n",
              "          for (const buffer of message.buffers) {\n",
              "            buffers.push(buffer);\n",
              "            downloaded += buffer.byteLength;\n",
              "            progress.value = downloaded;\n",
              "          }\n",
              "        }\n",
              "      }\n",
              "      const blob = new Blob(buffers, {type: 'application/binary'});\n",
              "      const a = document.createElement('a');\n",
              "      a.href = window.URL.createObjectURL(blob);\n",
              "      a.download = filename;\n",
              "      div.appendChild(a);\n",
              "      a.click();\n",
              "      div.remove();\n",
              "    }\n",
              "  "
            ],
            "text/plain": [
              "<IPython.core.display.Javascript object>"
            ]
          },
          "metadata": {
            "tags": []
          }
        },
        {
          "output_type": "display_data",
          "data": {
            "application/javascript": [
              "download(\"download_58a3f86d-d856-4744-8c8b-7bdc3d32435b\", \"irse_pypulseq_colab_1slices_FOV250.0_N128_TR4500.0_TE10.0_TI75.0_thk6.0mm_enc_yzx.seq\", 97157)"
            ],
            "text/plain": [
              "<IPython.core.display.Javascript object>"
            ]
          },
          "metadata": {
            "tags": []
          }
        },
        {
          "output_type": "stream",
          "text": [
            "Number of slices that can be accommodated =38.0\n",
            "Number of slices acquired per TR = 1\n"
          ],
          "name": "stdout"
        },
        {
          "output_type": "display_data",
          "data": {
            "application/javascript": [
              "\n",
              "    async function download(id, filename, size) {\n",
              "      if (!google.colab.kernel.accessAllowed) {\n",
              "        return;\n",
              "      }\n",
              "      const div = document.createElement('div');\n",
              "      const label = document.createElement('label');\n",
              "      label.textContent = `Downloading \"${filename}\": `;\n",
              "      div.appendChild(label);\n",
              "      const progress = document.createElement('progress');\n",
              "      progress.max = size;\n",
              "      div.appendChild(progress);\n",
              "      document.body.appendChild(div);\n",
              "\n",
              "      const buffers = [];\n",
              "      let downloaded = 0;\n",
              "\n",
              "      const channel = await google.colab.kernel.comms.open(id);\n",
              "      // Send a message to notify the kernel that we're ready.\n",
              "      channel.send({})\n",
              "\n",
              "      for await (const message of channel.messages) {\n",
              "        // Send a message to notify the kernel that we're ready.\n",
              "        channel.send({})\n",
              "        if (message.buffers) {\n",
              "          for (const buffer of message.buffers) {\n",
              "            buffers.push(buffer);\n",
              "            downloaded += buffer.byteLength;\n",
              "            progress.value = downloaded;\n",
              "          }\n",
              "        }\n",
              "      }\n",
              "      const blob = new Blob(buffers, {type: 'application/binary'});\n",
              "      const a = document.createElement('a');\n",
              "      a.href = window.URL.createObjectURL(blob);\n",
              "      a.download = filename;\n",
              "      div.appendChild(a);\n",
              "      a.click();\n",
              "      div.remove();\n",
              "    }\n",
              "  "
            ],
            "text/plain": [
              "<IPython.core.display.Javascript object>"
            ]
          },
          "metadata": {
            "tags": []
          }
        },
        {
          "output_type": "display_data",
          "data": {
            "application/javascript": [
              "download(\"download_8b532b64-5737-4ad6-a40e-fb77e4c6a940\", \"irse_pypulseq_colab_1slices_FOV250.0_N128_TR4500.0_TE10.0_TI100.0_thk6.0mm_enc_yzx.seq\", 97157)"
            ],
            "text/plain": [
              "<IPython.core.display.Javascript object>"
            ]
          },
          "metadata": {
            "tags": []
          }
        },
        {
          "output_type": "stream",
          "text": [
            "Number of slices that can be accommodated =31.0\n",
            "Number of slices acquired per TR = 1\n"
          ],
          "name": "stdout"
        },
        {
          "output_type": "display_data",
          "data": {
            "application/javascript": [
              "\n",
              "    async function download(id, filename, size) {\n",
              "      if (!google.colab.kernel.accessAllowed) {\n",
              "        return;\n",
              "      }\n",
              "      const div = document.createElement('div');\n",
              "      const label = document.createElement('label');\n",
              "      label.textContent = `Downloading \"${filename}\": `;\n",
              "      div.appendChild(label);\n",
              "      const progress = document.createElement('progress');\n",
              "      progress.max = size;\n",
              "      div.appendChild(progress);\n",
              "      document.body.appendChild(div);\n",
              "\n",
              "      const buffers = [];\n",
              "      let downloaded = 0;\n",
              "\n",
              "      const channel = await google.colab.kernel.comms.open(id);\n",
              "      // Send a message to notify the kernel that we're ready.\n",
              "      channel.send({})\n",
              "\n",
              "      for await (const message of channel.messages) {\n",
              "        // Send a message to notify the kernel that we're ready.\n",
              "        channel.send({})\n",
              "        if (message.buffers) {\n",
              "          for (const buffer of message.buffers) {\n",
              "            buffers.push(buffer);\n",
              "            downloaded += buffer.byteLength;\n",
              "            progress.value = downloaded;\n",
              "          }\n",
              "        }\n",
              "      }\n",
              "      const blob = new Blob(buffers, {type: 'application/binary'});\n",
              "      const a = document.createElement('a');\n",
              "      a.href = window.URL.createObjectURL(blob);\n",
              "      a.download = filename;\n",
              "      div.appendChild(a);\n",
              "      a.click();\n",
              "      div.remove();\n",
              "    }\n",
              "  "
            ],
            "text/plain": [
              "<IPython.core.display.Javascript object>"
            ]
          },
          "metadata": {
            "tags": []
          }
        },
        {
          "output_type": "display_data",
          "data": {
            "application/javascript": [
              "download(\"download_c02db5dd-eb3e-42cc-9ee0-1c2c97649deb\", \"irse_pypulseq_colab_1slices_FOV250.0_N128_TR4500.0_TE10.0_TI125.0_thk6.0mm_enc_yzx.seq\", 97158)"
            ],
            "text/plain": [
              "<IPython.core.display.Javascript object>"
            ]
          },
          "metadata": {
            "tags": []
          }
        },
        {
          "output_type": "stream",
          "text": [
            "Number of slices that can be accommodated =26.0\n",
            "Number of slices acquired per TR = 1\n"
          ],
          "name": "stdout"
        },
        {
          "output_type": "display_data",
          "data": {
            "application/javascript": [
              "\n",
              "    async function download(id, filename, size) {\n",
              "      if (!google.colab.kernel.accessAllowed) {\n",
              "        return;\n",
              "      }\n",
              "      const div = document.createElement('div');\n",
              "      const label = document.createElement('label');\n",
              "      label.textContent = `Downloading \"${filename}\": `;\n",
              "      div.appendChild(label);\n",
              "      const progress = document.createElement('progress');\n",
              "      progress.max = size;\n",
              "      div.appendChild(progress);\n",
              "      document.body.appendChild(div);\n",
              "\n",
              "      const buffers = [];\n",
              "      let downloaded = 0;\n",
              "\n",
              "      const channel = await google.colab.kernel.comms.open(id);\n",
              "      // Send a message to notify the kernel that we're ready.\n",
              "      channel.send({})\n",
              "\n",
              "      for await (const message of channel.messages) {\n",
              "        // Send a message to notify the kernel that we're ready.\n",
              "        channel.send({})\n",
              "        if (message.buffers) {\n",
              "          for (const buffer of message.buffers) {\n",
              "            buffers.push(buffer);\n",
              "            downloaded += buffer.byteLength;\n",
              "            progress.value = downloaded;\n",
              "          }\n",
              "        }\n",
              "      }\n",
              "      const blob = new Blob(buffers, {type: 'application/binary'});\n",
              "      const a = document.createElement('a');\n",
              "      a.href = window.URL.createObjectURL(blob);\n",
              "      a.download = filename;\n",
              "      div.appendChild(a);\n",
              "      a.click();\n",
              "      div.remove();\n",
              "    }\n",
              "  "
            ],
            "text/plain": [
              "<IPython.core.display.Javascript object>"
            ]
          },
          "metadata": {
            "tags": []
          }
        },
        {
          "output_type": "display_data",
          "data": {
            "application/javascript": [
              "download(\"download_3ed76214-c28d-4313-9fed-23c09fe3a2c2\", \"irse_pypulseq_colab_1slices_FOV250.0_N128_TR4500.0_TE10.0_TI150.0_thk6.0mm_enc_yzx.seq\", 97158)"
            ],
            "text/plain": [
              "<IPython.core.display.Javascript object>"
            ]
          },
          "metadata": {
            "tags": []
          }
        },
        {
          "output_type": "stream",
          "text": [
            "Number of slices that can be accommodated =16.0\n",
            "Number of slices acquired per TR = 1\n"
          ],
          "name": "stdout"
        },
        {
          "output_type": "display_data",
          "data": {
            "application/javascript": [
              "\n",
              "    async function download(id, filename, size) {\n",
              "      if (!google.colab.kernel.accessAllowed) {\n",
              "        return;\n",
              "      }\n",
              "      const div = document.createElement('div');\n",
              "      const label = document.createElement('label');\n",
              "      label.textContent = `Downloading \"${filename}\": `;\n",
              "      div.appendChild(label);\n",
              "      const progress = document.createElement('progress');\n",
              "      progress.max = size;\n",
              "      div.appendChild(progress);\n",
              "      document.body.appendChild(div);\n",
              "\n",
              "      const buffers = [];\n",
              "      let downloaded = 0;\n",
              "\n",
              "      const channel = await google.colab.kernel.comms.open(id);\n",
              "      // Send a message to notify the kernel that we're ready.\n",
              "      channel.send({})\n",
              "\n",
              "      for await (const message of channel.messages) {\n",
              "        // Send a message to notify the kernel that we're ready.\n",
              "        channel.send({})\n",
              "        if (message.buffers) {\n",
              "          for (const buffer of message.buffers) {\n",
              "            buffers.push(buffer);\n",
              "            downloaded += buffer.byteLength;\n",
              "            progress.value = downloaded;\n",
              "          }\n",
              "        }\n",
              "      }\n",
              "      const blob = new Blob(buffers, {type: 'application/binary'});\n",
              "      const a = document.createElement('a');\n",
              "      a.href = window.URL.createObjectURL(blob);\n",
              "      a.download = filename;\n",
              "      div.appendChild(a);\n",
              "      a.click();\n",
              "      div.remove();\n",
              "    }\n",
              "  "
            ],
            "text/plain": [
              "<IPython.core.display.Javascript object>"
            ]
          },
          "metadata": {
            "tags": []
          }
        },
        {
          "output_type": "display_data",
          "data": {
            "application/javascript": [
              "download(\"download_5fad1732-cce7-4724-83f3-c3cb4ec5ae64\", \"irse_pypulseq_colab_1slices_FOV250.0_N128_TR4500.0_TE10.0_TI250.0_thk6.0mm_enc_yzx.seq\", 97158)"
            ],
            "text/plain": [
              "<IPython.core.display.Javascript object>"
            ]
          },
          "metadata": {
            "tags": []
          }
        },
        {
          "output_type": "stream",
          "text": [
            "Number of slices that can be accommodated =4.0\n",
            "Number of slices acquired per TR = 1\n"
          ],
          "name": "stdout"
        },
        {
          "output_type": "display_data",
          "data": {
            "application/javascript": [
              "\n",
              "    async function download(id, filename, size) {\n",
              "      if (!google.colab.kernel.accessAllowed) {\n",
              "        return;\n",
              "      }\n",
              "      const div = document.createElement('div');\n",
              "      const label = document.createElement('label');\n",
              "      label.textContent = `Downloading \"${filename}\": `;\n",
              "      div.appendChild(label);\n",
              "      const progress = document.createElement('progress');\n",
              "      progress.max = size;\n",
              "      div.appendChild(progress);\n",
              "      document.body.appendChild(div);\n",
              "\n",
              "      const buffers = [];\n",
              "      let downloaded = 0;\n",
              "\n",
              "      const channel = await google.colab.kernel.comms.open(id);\n",
              "      // Send a message to notify the kernel that we're ready.\n",
              "      channel.send({})\n",
              "\n",
              "      for await (const message of channel.messages) {\n",
              "        // Send a message to notify the kernel that we're ready.\n",
              "        channel.send({})\n",
              "        if (message.buffers) {\n",
              "          for (const buffer of message.buffers) {\n",
              "            buffers.push(buffer);\n",
              "            downloaded += buffer.byteLength;\n",
              "            progress.value = downloaded;\n",
              "          }\n",
              "        }\n",
              "      }\n",
              "      const blob = new Blob(buffers, {type: 'application/binary'});\n",
              "      const a = document.createElement('a');\n",
              "      a.href = window.URL.createObjectURL(blob);\n",
              "      a.download = filename;\n",
              "      div.appendChild(a);\n",
              "      a.click();\n",
              "      div.remove();\n",
              "    }\n",
              "  "
            ],
            "text/plain": [
              "<IPython.core.display.Javascript object>"
            ]
          },
          "metadata": {
            "tags": []
          }
        },
        {
          "output_type": "display_data",
          "data": {
            "application/javascript": [
              "download(\"download_688d84e4-b6be-4bf8-bb6e-13ba1f75f962\", \"irse_pypulseq_colab_1slices_FOV250.0_N128_TR4500.0_TE10.0_TI1000.0_thk6.0mm_enc_yzx.seq\", 97158)"
            ],
            "text/plain": [
              "<IPython.core.display.Javascript object>"
            ]
          },
          "metadata": {
            "tags": []
          }
        },
        {
          "output_type": "stream",
          "text": [
            "Number of slices that can be accommodated =2.0\n",
            "Number of slices acquired per TR = 1\n"
          ],
          "name": "stdout"
        },
        {
          "output_type": "display_data",
          "data": {
            "application/javascript": [
              "\n",
              "    async function download(id, filename, size) {\n",
              "      if (!google.colab.kernel.accessAllowed) {\n",
              "        return;\n",
              "      }\n",
              "      const div = document.createElement('div');\n",
              "      const label = document.createElement('label');\n",
              "      label.textContent = `Downloading \"${filename}\": `;\n",
              "      div.appendChild(label);\n",
              "      const progress = document.createElement('progress');\n",
              "      progress.max = size;\n",
              "      div.appendChild(progress);\n",
              "      document.body.appendChild(div);\n",
              "\n",
              "      const buffers = [];\n",
              "      let downloaded = 0;\n",
              "\n",
              "      const channel = await google.colab.kernel.comms.open(id);\n",
              "      // Send a message to notify the kernel that we're ready.\n",
              "      channel.send({})\n",
              "\n",
              "      for await (const message of channel.messages) {\n",
              "        // Send a message to notify the kernel that we're ready.\n",
              "        channel.send({})\n",
              "        if (message.buffers) {\n",
              "          for (const buffer of message.buffers) {\n",
              "            buffers.push(buffer);\n",
              "            downloaded += buffer.byteLength;\n",
              "            progress.value = downloaded;\n",
              "          }\n",
              "        }\n",
              "      }\n",
              "      const blob = new Blob(buffers, {type: 'application/binary'});\n",
              "      const a = document.createElement('a');\n",
              "      a.href = window.URL.createObjectURL(blob);\n",
              "      a.download = filename;\n",
              "      div.appendChild(a);\n",
              "      a.click();\n",
              "      div.remove();\n",
              "    }\n",
              "  "
            ],
            "text/plain": [
              "<IPython.core.display.Javascript object>"
            ]
          },
          "metadata": {
            "tags": []
          }
        },
        {
          "output_type": "display_data",
          "data": {
            "application/javascript": [
              "download(\"download_fc703cd2-edd1-4943-98b5-cdd85aa1b98f\", \"irse_pypulseq_colab_1slices_FOV250.0_N128_TR4500.0_TE10.0_TI1500.0_thk6.0mm_enc_yzx.seq\", 97159)"
            ],
            "text/plain": [
              "<IPython.core.display.Javascript object>"
            ]
          },
          "metadata": {
            "tags": []
          }
        },
        {
          "output_type": "stream",
          "text": [
            "Number of slices that can be accommodated =2.0\n",
            "Number of slices acquired per TR = 1\n"
          ],
          "name": "stdout"
        },
        {
          "output_type": "display_data",
          "data": {
            "application/javascript": [
              "\n",
              "    async function download(id, filename, size) {\n",
              "      if (!google.colab.kernel.accessAllowed) {\n",
              "        return;\n",
              "      }\n",
              "      const div = document.createElement('div');\n",
              "      const label = document.createElement('label');\n",
              "      label.textContent = `Downloading \"${filename}\": `;\n",
              "      div.appendChild(label);\n",
              "      const progress = document.createElement('progress');\n",
              "      progress.max = size;\n",
              "      div.appendChild(progress);\n",
              "      document.body.appendChild(div);\n",
              "\n",
              "      const buffers = [];\n",
              "      let downloaded = 0;\n",
              "\n",
              "      const channel = await google.colab.kernel.comms.open(id);\n",
              "      // Send a message to notify the kernel that we're ready.\n",
              "      channel.send({})\n",
              "\n",
              "      for await (const message of channel.messages) {\n",
              "        // Send a message to notify the kernel that we're ready.\n",
              "        channel.send({})\n",
              "        if (message.buffers) {\n",
              "          for (const buffer of message.buffers) {\n",
              "            buffers.push(buffer);\n",
              "            downloaded += buffer.byteLength;\n",
              "            progress.value = downloaded;\n",
              "          }\n",
              "        }\n",
              "      }\n",
              "      const blob = new Blob(buffers, {type: 'application/binary'});\n",
              "      const a = document.createElement('a');\n",
              "      a.href = window.URL.createObjectURL(blob);\n",
              "      a.download = filename;\n",
              "      div.appendChild(a);\n",
              "      a.click();\n",
              "      div.remove();\n",
              "    }\n",
              "  "
            ],
            "text/plain": [
              "<IPython.core.display.Javascript object>"
            ]
          },
          "metadata": {
            "tags": []
          }
        },
        {
          "output_type": "display_data",
          "data": {
            "application/javascript": [
              "download(\"download_5513d650-6140-4957-bfbe-351708bc5c96\", \"irse_pypulseq_colab_1slices_FOV250.0_N128_TR4500.0_TE10.0_TI2000.0_thk6.0mm_enc_yzx.seq\", 97159)"
            ],
            "text/plain": [
              "<IPython.core.display.Javascript object>"
            ]
          },
          "metadata": {
            "tags": []
          }
        },
        {
          "output_type": "stream",
          "text": [
            "Number of slices that can be accommodated =1.0\n",
            "Number of slices acquired per TR = 1.0\n"
          ],
          "name": "stdout"
        },
        {
          "output_type": "display_data",
          "data": {
            "application/javascript": [
              "\n",
              "    async function download(id, filename, size) {\n",
              "      if (!google.colab.kernel.accessAllowed) {\n",
              "        return;\n",
              "      }\n",
              "      const div = document.createElement('div');\n",
              "      const label = document.createElement('label');\n",
              "      label.textContent = `Downloading \"${filename}\": `;\n",
              "      div.appendChild(label);\n",
              "      const progress = document.createElement('progress');\n",
              "      progress.max = size;\n",
              "      div.appendChild(progress);\n",
              "      document.body.appendChild(div);\n",
              "\n",
              "      const buffers = [];\n",
              "      let downloaded = 0;\n",
              "\n",
              "      const channel = await google.colab.kernel.comms.open(id);\n",
              "      // Send a message to notify the kernel that we're ready.\n",
              "      channel.send({})\n",
              "\n",
              "      for await (const message of channel.messages) {\n",
              "        // Send a message to notify the kernel that we're ready.\n",
              "        channel.send({})\n",
              "        if (message.buffers) {\n",
              "          for (const buffer of message.buffers) {\n",
              "            buffers.push(buffer);\n",
              "            downloaded += buffer.byteLength;\n",
              "            progress.value = downloaded;\n",
              "          }\n",
              "        }\n",
              "      }\n",
              "      const blob = new Blob(buffers, {type: 'application/binary'});\n",
              "      const a = document.createElement('a');\n",
              "      a.href = window.URL.createObjectURL(blob);\n",
              "      a.download = filename;\n",
              "      div.appendChild(a);\n",
              "      a.click();\n",
              "      div.remove();\n",
              "    }\n",
              "  "
            ],
            "text/plain": [
              "<IPython.core.display.Javascript object>"
            ]
          },
          "metadata": {
            "tags": []
          }
        },
        {
          "output_type": "display_data",
          "data": {
            "application/javascript": [
              "download(\"download_901a52e5-3780-4d41-9827-8c8b4bc86b23\", \"irse_pypulseq_colab_1slices_FOV250.0_N128_TR4500.0_TE10.0_TI3000.0_thk6.0mm_enc_yzx.seq\", 97159)"
            ],
            "text/plain": [
              "<IPython.core.display.Javascript object>"
            ]
          },
          "metadata": {
            "tags": []
          }
        }
      ]
    },
    {
      "cell_type": "markdown",
      "metadata": {
        "id": "hsqRPD-M7d8P"
      },
      "source": [
        "## PLOT THE SEQUENCE\r\n",
        "Change the `time_range` (seconds) to view different parts of the sequence. "
      ]
    },
    {
      "cell_type": "code",
      "metadata": {
        "id": "2O1upg9qL5L4",
        "colab": {
          "base_uri": "https://localhost:8080/",
          "height": 577
        },
        "outputId": "644c3c59-55de-4782-b1f4-cf5e754ddeca"
      },
      "source": [
        "seq.plot(time_range=(0, TR / 16))"
      ],
      "execution_count": 8,
      "outputs": [
        {
          "output_type": "display_data",
          "data": {
            "image/png": "[encoded data removed]",
            "text/plain": [
              "<Figure size 432x288 with 3 Axes>"
            ]
          },
          "metadata": {
            "tags": [],
            "needs_background": "light"
          }
        },
        {
          "output_type": "display_data",
          "data": {
            "image/png": "[encoded data removed]",
            "text/plain": [
              "<Figure size 432x288 with 3 Axes>"
            ]
          },
          "metadata": {
            "tags": [],
            "needs_background": "light"
          }
        }
      ]
    },
    {
      "cell_type": "markdown",
      "metadata": {
        "id": "E7IvuunU67sp"
      },
      "source": [
        "## USE `seq.test_report()` TO SANITY-CHECK THE SEQUENCE \r\n",
        "This takes a long time. It may be skipped if you have validated the files or are trying to generate sequences quickly. "
      ]
    },
    {
      "cell_type": "code",
      "metadata": {
        "id": "vxSE32S6LCTA",
        "colab": {
          "base_uri": "https://localhost:8080/"
        },
        "outputId": "6c155dcb-21b2-4796-ed0c-24ed3e986e5a"
      },
      "source": [
        "print(seq.test_report())"
      ],
      "execution_count": 9,
      "outputs": [
        {
          "output_type": "stream",
          "text": [
            "Number of blocks: 384\n",
            "Number of events:\n",
            "RF:     96\n",
            "Gx:    128\n",
            "Gy:     64\n",
            "Gz:    288\n",
            "ADC:     32\n",
            "Delay:     64\n",
            "Sequence duration: 64.000000 s\n",
            "TE: 0.012001 s\n",
            "TR: 2.000000 s\n",
            "Flip angle: 90.00 180.00 deg\n",
            "Unique k-space positions (aka cols, rows, etc.): 32 32 \n",
            "Dimensions: 2\n",
            "Spatial resolution: 7.86 mm\n",
            "Spatial resolution: 7.81 mm\n",
            "Repetitions/slices/contrasts: 1.0\n",
            "Cartesian encoding trajectory detected\n",
            "Block timing check passed successfully\n",
            "Max gradient: 92350 44444 491667 Hz/m == 2.17 1.04 11.55 mT/m\n",
            "Max slew rate: 369401177 177777778 1966666667 Hz/m/s == 8.68 4.18 46.19 mT/m/s\n",
            "Max absolute gradient: 502235 Hz/m == 11.80 mT/m\n",
            "Max absolute slew rate: 1.99582e+09 Hz/m/s == 46.88 T/m/s\n"
          ],
          "name": "stdout"
        }
      ]
    },
    {
      "cell_type": "markdown",
      "metadata": {
        "id": "3Z3I09mw7mF4"
      },
      "source": [
        "## WRITE THE SEQUENCE TO FILE AND DOWNLOAD"
      ]
    },
    {
      "cell_type": "code",
      "metadata": {
        "id": "mZnTYGkWL6eq",
        "colab": {
          "base_uri": "https://localhost:8080/",
          "height": 17
        },
        "outputId": "7b9f8ddd-7ac0-4158-c2e3-ce26cce4785f"
      },
      "source": [
        " seq.write(f'irse_pypulseq_colab.seq')  # Generate .seq file\n",
        " from google.colab import files\n",
        " files.download(f'irse_pypulseq_colab.seq')  # Download locally"
      ],
      "execution_count": 10,
      "outputs": [
        {
          "output_type": "display_data",
          "data": {
            "application/javascript": [
              "\n",
              "    async function download(id, filename, size) {\n",
              "      if (!google.colab.kernel.accessAllowed) {\n",
              "        return;\n",
              "      }\n",
              "      const div = document.createElement('div');\n",
              "      const label = document.createElement('label');\n",
              "      label.textContent = `Downloading \"${filename}\": `;\n",
              "      div.appendChild(label);\n",
              "      const progress = document.createElement('progress');\n",
              "      progress.max = size;\n",
              "      div.appendChild(progress);\n",
              "      document.body.appendChild(div);\n",
              "\n",
              "      const buffers = [];\n",
              "      let downloaded = 0;\n",
              "\n",
              "      const channel = await google.colab.kernel.comms.open(id);\n",
              "      // Send a message to notify the kernel that we're ready.\n",
              "      channel.send({})\n",
              "\n",
              "      for await (const message of channel.messages) {\n",
              "        // Send a message to notify the kernel that we're ready.\n",
              "        channel.send({})\n",
              "        if (message.buffers) {\n",
              "          for (const buffer of message.buffers) {\n",
              "            buffers.push(buffer);\n",
              "            downloaded += buffer.byteLength;\n",
              "            progress.value = downloaded;\n",
              "          }\n",
              "        }\n",
              "      }\n",
              "      const blob = new Blob(buffers, {type: 'application/binary'});\n",
              "      const a = document.createElement('a');\n",
              "      a.href = window.URL.createObjectURL(blob);\n",
              "      a.download = filename;\n",
              "      div.appendChild(a);\n",
              "      a.click();\n",
              "      div.remove();\n",
              "    }\n",
              "  "
            ],
            "text/plain": [
              "<IPython.core.display.Javascript object>"
            ]
          },
          "metadata": {
            "tags": []
          }
        },
        {
          "output_type": "display_data",
          "data": {
            "application/javascript": [
              "download(\"download_f70357c6-a223-4409-90c6-f9131d9a6c7f\", \"irse_pypulseq_colab.seq\", 64154)"
            ],
            "text/plain": [
              "<IPython.core.display.Javascript object>"
            ]
          },
          "metadata": {
            "tags": []
          }
        }
      ]
    }
  ]
}

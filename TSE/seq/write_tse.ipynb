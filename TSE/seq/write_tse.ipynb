{
  "nbformat": 4,
  "nbformat_minor": 0,
  "metadata": {
    "colab": {
      "name": "write_tse.ipynb",
      "provenance": [],
      "collapsed_sections": []
    },
    "kernelspec": {
      "name": "python3",
      "display_name": "Python 3"
    }
  },
  "cells": [
    {
      "cell_type": "markdown",
      "metadata": {
        "id": "3wnRoZ6cEvGv"
      },
      "source": [
        "\n",
        "\n",
        "# **Turbo Spin Echo (TSE) Sequence** \n",
        "---\n",
        "**About:** This notebook creates a 2D multi-slice Turbo Spin Echo (TSE) MRI sequence using the `pypulseq` library. This sequence is for fast imaging. A 2D Fourier transform can be used to reconstruct images from this acquisition after the data is reordered due to phase encode shuffling. Slices are interleaved and sequential.\n",
        "\n",
        "---\n",
        "## Contents\n",
        "1. Install & import packages\n",
        "2. Set system limits and acquisition parameters\n",
        "3. Calculate sequence components\n",
        "4. Add building blocks to sequence \n",
        "5. Examine sequence \n",
        "6. Export sequence as .seq file "
      ]
    },
    {
      "cell_type": "markdown",
      "metadata": {
        "id": "yUgvXjFcFens"
      },
      "source": [
        "# 1. Install & import packages\n",
        "Pypulseq (https://github.com/imr-framework/pypulseq) is used to generate the .seq format file. See [1] in references for more information about the Pulseq specification. "
      ]
    },
    {
      "cell_type": "code",
      "metadata": {
        "id": "PbRIem4ZEuIj",
        "outputId": "5732c48e-148f-4ace-c627-59ecbaa6b5ae",
        "colab": {
          "base_uri": "https://localhost:8080/",
          "height": 374
        }
      },
      "source": [
        "!pip install git+https://github.com/imr-framework/pypulseq.git@master"
      ],
      "execution_count": null,
      "outputs": [
        {
          "output_type": "stream",
          "text": [
            "Collecting git+https://github.com/imr-framework/pypulseq.git@dev\n",
            "  Cloning https://github.com/imr-framework/pypulseq.git (to revision dev) to /tmp/pip-req-build-pobymgpi\n",
            "  Running command git clone -q https://github.com/imr-framework/pypulseq.git /tmp/pip-req-build-pobymgpi\n",
            "  Running command git checkout -b dev --track origin/dev\n",
            "  Switched to a new branch 'dev'\n",
            "  Branch 'dev' set up to track remote branch 'dev' from 'origin'.\n",
            "Requirement already satisfied: matplotlib>=3.0.3 in /usr/local/lib/python3.6/dist-packages (from pypulseq==1.2.0.post3) (3.2.2)\n",
            "Requirement already satisfied: numpy>=1.16.3 in /usr/local/lib/python3.6/dist-packages (from pypulseq==1.2.0.post3) (1.18.5)\n",
            "Requirement already satisfied: scipy>=1.4.1 in /usr/local/lib/python3.6/dist-packages (from pypulseq==1.2.0.post3) (1.4.1)\n",
            "Requirement already satisfied: pyparsing!=2.0.4,!=2.1.2,!=2.1.6,>=2.0.1 in /usr/local/lib/python3.6/dist-packages (from matplotlib>=3.0.3->pypulseq==1.2.0.post3) (2.4.7)\n",
            "Requirement already satisfied: kiwisolver>=1.0.1 in /usr/local/lib/python3.6/dist-packages (from matplotlib>=3.0.3->pypulseq==1.2.0.post3) (1.2.0)\n",
            "Requirement already satisfied: cycler>=0.10 in /usr/local/lib/python3.6/dist-packages (from matplotlib>=3.0.3->pypulseq==1.2.0.post3) (0.10.0)\n",
            "Requirement already satisfied: python-dateutil>=2.1 in /usr/local/lib/python3.6/dist-packages (from matplotlib>=3.0.3->pypulseq==1.2.0.post3) (2.8.1)\n",
            "Requirement already satisfied: six in /usr/local/lib/python3.6/dist-packages (from cycler>=0.10->matplotlib>=3.0.3->pypulseq==1.2.0.post3) (1.15.0)\n",
            "Building wheels for collected packages: pypulseq\n",
            "  Building wheel for pypulseq (setup.py) ... \u001b[?25l\u001b[?25hdone\n",
            "  Created wheel for pypulseq: filename=pypulseq-1.2.0.post3-cp36-none-any.whl size=73258 sha256=8376827391e0fe9f9b95931e693e57d1af2fb673a98d10d16a31e10c35490ed4\n",
            "  Stored in directory: /tmp/pip-ephem-wheel-cache-dvdix20l/wheels/18/dd/da/be52d6c4f99b9ccc0d8320b3862f73b03cf4e9a51c1299b008\n",
            "Successfully built pypulseq\n",
            "Installing collected packages: pypulseq\n",
            "Successfully installed pypulseq-1.2.0.post3\n"
          ],
          "name": "stdout"
        }
      ]
    },
    {
      "cell_type": "markdown",
      "metadata": {
        "id": "T6l__NlsGFCH"
      },
      "source": [
        "Pypulseq, numpy, and plotting functions are imported. \n",
        "**Run the following code cell twice** to eliminate errors.\n"
      ]
    },
    {
      "cell_type": "code",
      "metadata": {
        "id": "t-c7qmywh7MD"
      },
      "source": [
        "# Import functions\n",
        "import copy \n",
        "from math import pi\n",
        "import math\n",
        "import warnings\n",
        "import numpy as np\n",
        "from pypulseq.Sequence.sequence import Sequence\n",
        "from pypulseq.calc_duration import calc_duration\n",
        "from pypulseq.make_adc import make_adc\n",
        "from pypulseq.make_delay import make_delay\n",
        "from pypulseq.make_sinc_pulse import make_sinc_pulse\n",
        "from pypulseq.make_trap_pulse import make_trapezoid\n",
        "from pypulseq.opts import Opts\n",
        "from pypulseq.calc_rf_center import calc_rf_center\n",
        "from pypulseq.make_extended_trapezoid import make_extended_trapezoid\n",
        "from scipy.io import savemat\n",
        "\n",
        "import matplotlib.pyplot as plt"
      ],
      "execution_count": null,
      "outputs": []
    },
    {
      "cell_type": "markdown",
      "metadata": {
        "id": "ZuW1khKMF6zb"
      },
      "source": [
        "# 2. Set system limits and acquisition parameters\n",
        "\n",
        "  \n",
        "\n",
        "\n",
        "  "
      ]
    },
    {
      "cell_type": "markdown",
      "metadata": {
        "id": "MScdjhkj6rAt"
      },
      "source": [
        "## System limits & setup\n",
        "System limits are specific to the MR scanner. The provided limits are \n",
        "compatible with a Siemens Prisma 3T scanner.  "
      ]
    },
    {
      "cell_type": "code",
      "metadata": {
        "id": "5EKrwM876wfM"
      },
      "source": [
        "# Set system limits\n",
        "ramp_time = 250e-6 # Ramp up/down time for all gradients where this is specified\n",
        "system = Opts(max_grad=32, grad_unit='mT/m', max_slew=130,\n",
        "                  slew_unit='T/m/s', rf_ringdown_time=100e-6, # changed from 30e-6\n",
        "                  rf_dead_time=100e-6, adc_dead_time=20e-6)\n",
        "\n",
        "# Initialize sequence\n",
        "seq = Sequence(system)\n",
        "# Set the gyromagnetic ratio constant for protons\n",
        "GAMMA_BAR = 42.5775e6"
      ],
      "execution_count": null,
      "outputs": []
    },
    {
      "cell_type": "markdown",
      "metadata": {
        "id": "b7No6bbT6w0C"
      },
      "source": [
        "## Acquisition parameters (geometry)\n",
        "* All distance values are in meters \n",
        "* This sequences acquires slices in the order they are listed; slice_locs indicate the slice locations relative to isocenter on the slice-selecting axis "
      ]
    },
    {
      "cell_type": "code",
      "metadata": {
        "id": "T4Ayjzod6w57"
      },
      "source": [
        "# FOV, matrix size\n",
        "fov = 0.250  # in meters\n",
        "n = 32  # matrix size isotropic \n",
        "\n",
        "# Spatial encoding directions\n",
        "ch_ro = 'x'\n",
        "ch_pe = 'y'\n",
        "ch_ss = 'z'\n",
        "\n",
        "# Slice selection (meters)\n",
        "n_slices = 1\n",
        "thk = 5e-3 \n",
        "\n",
        "# Derived parameters\n",
        "Nf, Np = (n, n)\n",
        "delta_k = 1 / fov\n",
        "k_width = Nf * delta_k\n",
        "\n",
        "# Slice locations (for default, set slice_locations to None)\n",
        "gap = 5e-3\n",
        "L = (n_slices-1)*(thk+gap)\n",
        "displacement = 5e-3\n",
        "acr_sl_locs = displacement + np.arange(-L/2, L/2 + thk + gap, thk + gap)\n",
        "#print(acr_sl_locs)\n",
        "\n",
        "slice_locations = [0]"
      ],
      "execution_count": null,
      "outputs": []
    },
    {
      "cell_type": "markdown",
      "metadata": {
        "id": "c9YhPa0b7O-e"
      },
      "source": [
        "\n",
        "## Acquisition parameters (contrast)\n",
        "* Set flip angle (FA), inversion time (TI), repetition time (TR), and echo time (TE) here to set the target contrast\n"
      ]
    },
    {
      "cell_type": "code",
      "metadata": {
        "id": "oH7PWziz7VvL"
      },
      "source": [
        "# Number of echoes per excitation (i.e. turbo factor)\n",
        "n_echo = 4\n",
        "# Flip angle \n",
        "fa = 90  #degrees\n",
        "# Timing (s)\n",
        "TR = 2000e-3 # Repetition time\n",
        "TE = 50e-3 # Echo time\n"
      ],
      "execution_count": null,
      "outputs": []
    },
    {
      "cell_type": "markdown",
      "metadata": {
        "id": "OwDWAER3e7ca"
      },
      "source": [
        "## Acquisition parameters (others)\n",
        "\n",
        "\n",
        "\n"
      ]
    },
    {
      "cell_type": "code",
      "metadata": {
        "id": "rmUbzpR9So1w"
      },
      "source": [
        "# Readout duration \n",
        "readout_time = 6.4e-3 + 2 * system.adc_dead_time\n",
        "\n",
        "# Excitation pulse duration\n",
        "t_ex = 2.5e-3\n",
        "t_exwd = t_ex + system.rf_ringdown_time + system.rf_dead_time\n",
        "\n",
        "# Refocusing pulse duration \n",
        "t_ref = 2e-3\n",
        "t_refwd = t_ref + system.rf_ringdown_time + system.rf_dead_time\n",
        "\n",
        "# Time gaps for spoilers   \n",
        "t_sp = 0.5 * (TE - readout_time - t_refwd) # time gap between pi-pulse and readout\n",
        "t_spex = 0.5 * (TE - t_exwd - t_refwd) # time gap between pi/2-pulse and pi-pulse\n",
        "\n",
        "# Spoiling factors\n",
        "fsp_r = 1 # in readout direction per refocusing\n",
        "fsp_s = 0.5 # in slice direction per refocusing \n"
      ],
      "execution_count": null,
      "outputs": []
    },
    {
      "cell_type": "markdown",
      "metadata": {
        "id": "iMlQ4fjWjMHu"
      },
      "source": [
        "# 3. Calculate sequence components\n",
        "\n"
      ]
    },
    {
      "cell_type": "markdown",
      "metadata": {
        "id": "leQGo-FP81mc"
      },
      "source": [
        "## Slice-selective RF pulses & gradient\n",
        "* RF pulses with zero frequency shift are created. The frequency is then changed before adding the pulses to sequence blocks for each slice.\n",
        "* Two unique RF pulses are generated: \n",
        "  - $\\alpha$-pulse (flip into x-y plane) \n",
        "  - 180-degree pulse (refocusing) \n",
        " \n",
        " "
      ]
    },
    {
      "cell_type": "code",
      "metadata": {
        "id": "xod2_gyhBQvZ"
      },
      "source": [
        "\n",
        "# 90 deg pulse (+y')\n",
        "rf_ex_phase = np.pi / 2\n",
        "flip_ex = fa * np.pi / 180\n",
        "rf_ex, g_ss, _ = make_sinc_pulse(flip_angle=flip_ex, system=system, duration=t_ex, slice_thickness=thk,\n",
        "                               apodization=0.5, time_bw_product=4, phase_offset=rf_ex_phase)\n",
        "gs_ex = make_trapezoid(channel=ch_ss, system=system, amplitude=g_ss.amplitude, flat_time=t_exwd, rise_time=ramp_time)\n",
        "\n",
        "\n",
        "# 180 deg pulse (+x')\n",
        "rf_ref_phase = 0\n",
        "flip_ref = 180 * np.pi / 180\n",
        "rf_ref, gz, _ = make_sinc_pulse(flip_angle=flip_ref, system=system, duration=t_ref, slice_thickness=thk,\n",
        "                                apodization=0.5, time_bw_product=4, phase_offset=rf_ref_phase, use='refocusing')\n",
        "gs_ref = make_trapezoid(channel=ch_ss, system=system, amplitude=gs_ex.amplitude, flat_time=t_refwd, rise_time=ramp_time)\n"
      ],
      "execution_count": null,
      "outputs": []
    },
    {
      "cell_type": "markdown",
      "metadata": {
        "id": "mMTe0IZOs45P"
      },
      "source": [
        "## Make gradients and ADC\n",
        "* gs_spex : slice direction spoiler between initial excitation and 1st 180 pulse\n",
        "* gs_spr : slice direction spoiler between 180 pulses \n",
        "* gr_spr : readout direction spoiler; area is (fsp_r) x (full readout area)\n"
      ]
    },
    {
      "cell_type": "code",
      "metadata": {
        "id": "EmOxUCMoTPq5"
      },
      "source": [
        "# SS spoiling  \n",
        "ags_ex = gs_ex.area / 2\n",
        "gs_spr = make_trapezoid(channel=ch_ss, system=system, area=ags_ex * (1 + fsp_s), duration=t_sp, rise_time=ramp_time)\n",
        "gs_spex = make_trapezoid(channel=ch_ss, system=system, area=ags_ex * fsp_s, duration=t_spex, rise_time=ramp_time)\n",
        "\n",
        "# Readout gradient and ADC \n",
        "gr_acq = make_trapezoid(channel=ch_ro, system=system, flat_area=k_width, flat_time=readout_time, rise_time=ramp_time)\n",
        "\n",
        "# No need for risetime delay since it is set at beginning of flattime; delay is ADC deadtime \n",
        "adc = make_adc(num_samples=Nf, duration=gr_acq.flat_time - 40e-6, delay=20e-6) \n",
        "\n",
        "# RO spoiling  \n",
        "gr_spr = make_trapezoid(channel=ch_ro, system=system, area=gr_acq.area * fsp_r, duration=t_sp, rise_time=ramp_time)\n",
        "\n",
        "# Following is not used anywhere\n",
        "# gr_spex = make_trapezoid(channel=ch_ro, system=system, area=gr_acq.area * (1 + fsp_r), duration=t_spex, rise_time=ramp_time)\n",
        "\n",
        "\n",
        "# Prephasing gradient in RO direction \n",
        "agr_preph = gr_acq.area / 2 + gr_spr.area\n",
        "gr_preph = make_trapezoid(channel=ch_ro, system=system, area=agr_preph, duration=t_spex, rise_time=ramp_time)"
      ],
      "execution_count": null,
      "outputs": []
    },
    {
      "cell_type": "markdown",
      "metadata": {
        "id": "aHQKv2uM-V4G"
      },
      "source": [
        "## **Phase encoding areas** \n",
        "Need to export the pe_order for reconsturuction! "
      ]
    },
    {
      "cell_type": "code",
      "metadata": {
        "id": "Qs12mtkPTs3t",
        "outputId": "cab1c4e4-ec68-4422-efac-2d9fdfc68841",
        "colab": {
          "base_uri": "https://localhost:8080/",
          "height": 86
        }
      },
      "source": [
        "# Phase encoding lobe calculations\n",
        "#import math\n",
        "#import numpy as np \n",
        "#Ny = 8\n",
        "#n_echo = 4\n",
        "#delta_k = 0.1\n",
        "\n",
        "# Number of readouts/echoes to be produced per TR \n",
        "n_ex = math.floor(Np / n_echo)\n",
        "pe_steps = np.arange(1, n_echo * n_ex + 1) - 0.5 * n_echo * n_ex - 1\n",
        "if divmod(n_echo, 2)[1] == 0: # If there is an even number of echoes \n",
        "    pe_steps = np.roll(pe_steps, -round(n_ex / 2))\n",
        "\n",
        "pe_order = pe_steps.reshape((n_ex, n_echo), order='F').T\n",
        "\n",
        "savemat('pe_info.mat',{'order': pe_order, 'dims': ['n_echo', 'n_ex']})\n",
        "\n",
        "phase_areas = pe_order * delta_k\n",
        "\n",
        "print(phase_areas)"
      ],
      "execution_count": null,
      "outputs": [
        {
          "output_type": "stream",
          "text": [
            "[[-48. -44. -40. -36. -32. -28. -24. -20.]\n",
            " [-16. -12.  -8.  -4.   0.   4.   8.  12.]\n",
            " [ 16.  20.  24.  28.  32.  36.  40.  44.]\n",
            " [ 48.  52.  56.  60. -64. -60. -56. -52.]]\n"
          ],
          "name": "stdout"
        }
      ]
    },
    {
      "cell_type": "code",
      "metadata": {
        "id": "KIihoaCEdy5P",
        "outputId": "3f5ef9d1-f5e2-4a76-a8ff-6c13087c211d",
        "colab": {
          "base_uri": "https://localhost:8080/",
          "height": 68
        }
      },
      "source": [
        "print(n_echo)\n",
        "print(Np)\n",
        "print(n_ex)"
      ],
      "execution_count": null,
      "outputs": [
        {
          "output_type": "stream",
          "text": [
            "4\n",
            "32\n",
            "8\n"
          ],
          "name": "stdout"
        }
      ]
    },
    {
      "cell_type": "markdown",
      "metadata": {
        "id": "4Kr3Sb-OU361"
      },
      "source": [
        "## Split gradients"
      ]
    },
    {
      "cell_type": "code",
      "metadata": {
        "id": "UPHTAYgYU4BF"
      },
      "source": [
        "# Split gradients and recombine into blocks\n",
        "\n",
        "# gs1 : ramp up of gs_ex\n",
        "gs1_times = [0, gs_ex.rise_time]\n",
        "gs1_amp = [0, gs_ex.amplitude]\n",
        "gs1 = make_extended_trapezoid(channel=ch_ss, times=gs1_times, amplitudes=gs1_amp)\n",
        "\n",
        "# gs2 : flat part of gs_ex\n",
        "gs2_times = [0, gs_ex.flat_time]\n",
        "gs2_amp = [gs_ex.amplitude, gs_ex.amplitude]\n",
        "gs2 = make_extended_trapezoid(channel=ch_ss, times=gs2_times, amplitudes=gs2_amp)\n",
        "\n",
        "# gs3 : Bridged slice pre-spoiler \n",
        "gs3_times = [0, gs_spex.rise_time, gs_spex.rise_time + gs_spex.flat_time,\n",
        "             gs_spex.rise_time + gs_spex.flat_time + gs_spex.fall_time]\n",
        "gs3_amp = [gs_ex.amplitude, gs_spex.amplitude, gs_spex.amplitude, gs_ref.amplitude]\n",
        "gs3 = make_extended_trapezoid(channel=ch_ss, times=gs3_times, amplitudes=gs3_amp)\n",
        "\n",
        "\n",
        "# gs4 : Flat slice selector for pi-pulse \n",
        "gs4_times = [0, gs_ref.flat_time]\n",
        "gs4_amp = [gs_ref.amplitude, gs_ref.amplitude]\n",
        "gs4 = make_extended_trapezoid(channel=ch_ss, times=gs4_times, amplitudes=gs4_amp)\n",
        "\n",
        "# gs5 : Bridged slice post-spoiler\n",
        "gs5_times = [0, gs_spr.rise_time, gs_spr.rise_time + gs_spr.flat_time,\n",
        "             gs_spr.rise_time + gs_spr.flat_time + gs_spr.fall_time]\n",
        "gs5_amp = [gs_ref.amplitude, gs_spr.amplitude, gs_spr.amplitude, 0]\n",
        "gs5 = make_extended_trapezoid(channel=ch_ss, times=gs5_times, amplitudes=gs5_amp)\n",
        "\n",
        "\n",
        "\n",
        "# gs7 : The gs3 for next pi-pulse\n",
        "gs7_times = [0, gs_spr.rise_time, gs_spr.rise_time + gs_spr.flat_time,\n",
        "             gs_spr.rise_time + gs_spr.flat_time + gs_spr.fall_time]\n",
        "gs7_amp = [0, gs_spr.amplitude, gs_spr.amplitude, gs_ref.amplitude]\n",
        "gs7 = make_extended_trapezoid(channel=ch_ss, times=gs7_times, amplitudes=gs7_amp)\n",
        "\n",
        "\n",
        "# gr3 : pre-readout gradient\n",
        "gr3 = gr_preph\n",
        "\n",
        "\n",
        "# gr5 : Readout post-spoiler \n",
        "gr5_times = [0, gr_spr.rise_time, gr_spr.rise_time + gr_spr.flat_time,\n",
        "             gr_spr.rise_time + gr_spr.flat_time + gr_spr.fall_time]\n",
        "gr5_amp = [0, gr_spr.amplitude, gr_spr.amplitude, gr_acq.amplitude]\n",
        "gr5 = make_extended_trapezoid(channel=ch_ro, times=gr5_times, amplitudes=gr5_amp)\n",
        "\n",
        "\n",
        "# gr6 : Flat readout gradient \n",
        "gr6_times = [0, readout_time]\n",
        "gr6_amp = [gr_acq.amplitude, gr_acq.amplitude]\n",
        "gr6 = make_extended_trapezoid(channel=ch_ro, times=gr6_times, amplitudes=gr6_amp)\n",
        "\n",
        "\n",
        "# gr7 : the gr3 for next repeat \n",
        "gr7_times = [0, gr_spr.rise_time, gr_spr.rise_time + gr_spr.flat_time,\n",
        "             gr_spr.rise_time + gr_spr.flat_time + gr_spr.fall_time]\n",
        "gr7_amp = [gr_acq.amplitude, gr_spr.amplitude, gr_spr.amplitude, 0]\n",
        "gr7 = make_extended_trapezoid(channel=ch_ro, times=gr7_times, amplitudes=gr7_amp)"
      ],
      "execution_count": null,
      "outputs": []
    },
    {
      "cell_type": "markdown",
      "metadata": {
        "id": "o692svr0-jXM"
      },
      "source": [
        "## Timing (delay) calculations"
      ]
    },
    {
      "cell_type": "code",
      "metadata": {
        "id": "v-MjR2Il-plL",
        "outputId": "4856691d-9136-4db4-9238-23de781a9dd6",
        "colab": {
          "base_uri": "https://localhost:8080/",
          "height": 34
        }
      },
      "source": [
        "# delay_TR : delay at the end of each TSE pulse train (i.e. each TR)\n",
        "t_ex = gs1.t[-1] + gs2.t[-1] + gs3.t[-1]\n",
        "t_ref = gs4.t[-1] + gs5.t[-1] + gs7.t[-1] + readout_time\n",
        "t_end = gs4.t[-1] + gs5.t[-1]\n",
        "TE_train = t_ex + n_echo * t_ref + t_end\n",
        "TR_fill = (TR - n_slices * TE_train) / n_slices\n",
        "TR_fill = system.grad_raster_time * round(TR_fill / system.grad_raster_time)\n",
        "if TR_fill < 0:\n",
        "    TR_fill = 1e-3\n",
        "    warnings.warn(f'TR too short, adapted to include all slices to: {1000 * n_slices * (TE_train + TR_fill)} ms')\n",
        "else:\n",
        "    print(f'TR fill: {1000 * TR_fill} ms')\n",
        "delay_TR = make_delay(TR_fill)\n",
        "\n"
      ],
      "execution_count": null,
      "outputs": [
        {
          "output_type": "stream",
          "text": [
            "TR fill: 1751.7900000000002 ms\n"
          ],
          "name": "stdout"
        }
      ]
    },
    {
      "cell_type": "markdown",
      "metadata": {
        "id": "00VLUObQjfDK"
      },
      "source": [
        "# 4. Add building blocks to sequence"
      ]
    },
    {
      "cell_type": "code",
      "metadata": {
        "id": "G1e8cIXYRLSm",
        "outputId": "42d399d9-e583-4f77-8fe6-740f73c8f36a",
        "colab": {
          "base_uri": "https://localhost:8080/",
          "height": 654
        }
      },
      "source": [
        "for k_ex in range(n_ex + 1): # For each TR  \n",
        "    for s in range(n_slices): # For each slice (multislice)\n",
        "\n",
        "        if slice_locations is None:\n",
        "          rf_ex.freq_offset = gs_ex.amplitude * thk * (s - (n_slices - 1) / 2)\n",
        "          rf_ref.freq_offset = gs_ref.amplitude * thk * (s - (n_slices - 1) / 2)\n",
        "          rf_ex.phase_offset = rf_ex_phase - 2 * np.pi * rf_ex.freq_offset * calc_rf_center(rf_ex)[0]\n",
        "          rf_ref.phase_offset = rf_ref_phase - 2 * np.pi * rf_ref.freq_offset * calc_rf_center(rf_ref)[0]\n",
        "        else:\n",
        "          rf_ex.freq_offset = gs_ex.amplitude * slice_locations[s]\n",
        "          rf_ref.freq_offset = gs_ref.amplitude * slice_locations[s]\n",
        "          rf_ex.phase_offset = rf_ex_phase - 2 * np.pi * rf_ex.freq_offset * calc_rf_center(rf_ex)[0]\n",
        "          rf_ref.phase_offset = rf_ref_phase - 2 * np.pi * rf_ref.freq_offset * calc_rf_center(rf_ref)[0]\n",
        "        \n",
        "        seq.add_block(gs1)\n",
        "        seq.add_block(gs2, rf_ex) # make sure gs2 has channel ch_ss\n",
        "        seq.add_block(gs3, gr3)\n",
        "\n",
        "        for k_echo in range(n_echo): # For each echo \n",
        "            if k_ex > 0:\n",
        "                phase_area = phase_areas[k_echo, k_ex - 1]\n",
        "            else:\n",
        "                # First TR is skipped so zero phase encoding is needed\n",
        "                phase_area = 0.0  # 0.0 and not 0 because -phase_area should successfully result in negative zero\n",
        "\n",
        "\n",
        "\n",
        "            gp_pre = make_trapezoid(channel=ch_pe, system=system, area=phase_area, duration=t_sp, rise_time=ramp_time)\n",
        "            print('gp_pre info: ', gp_pre)\n",
        "            \n",
        "            gp_rew = make_trapezoid(channel=ch_pe, system=system, area=-phase_area, duration=t_sp, rise_time=ramp_time)\n",
        "            \n",
        "            seq.add_block(gs4, rf_ref) \n",
        "            seq.add_block(gs5, gr5, gp_pre)\n",
        "            \n",
        "            # Skipping first TR \n",
        "            if k_ex > 0:\n",
        "                seq.add_block(gr6, adc)\n",
        "            else:\n",
        "                seq.add_block(gr6)\n",
        "\n",
        "            seq.add_block(gs7, gr7, gp_rew)\n",
        "\n",
        "        seq.add_block(gs4)\n",
        "        seq.add_block(gs5)\n",
        "        seq.add_block(delay_TR)\n",
        "\n"
      ],
      "execution_count": null,
      "outputs": [
        {
          "output_type": "stream",
          "text": [
            "gp_pre info:  namespace(amplitude=0.0, area=0.0, channel='y', delay=0, fall_time=0.00025, first=0, flat_area=0.0, flat_time=0.02018, last=0, rise_time=0.00025, type='trap')\n",
            "gp_pre info:  namespace(amplitude=0.0, area=0.0, channel='y', delay=0, fall_time=0.00025, first=0, flat_area=0.0, flat_time=0.02018, last=0, rise_time=0.00025, type='trap')\n",
            "gp_pre info:  namespace(amplitude=0.0, area=0.0, channel='y', delay=0, fall_time=0.00025, first=0, flat_area=0.0, flat_time=0.02018, last=0, rise_time=0.00025, type='trap')\n",
            "gp_pre info:  namespace(amplitude=0.0, area=0.0, channel='y', delay=0, fall_time=0.00025, first=0, flat_area=0.0, flat_time=0.02018, last=0, rise_time=0.00025, type='trap')\n",
            "gp_pre info:  namespace(amplitude=-2349.4860499265787, area=-48.00000000000001, channel='y', delay=0, fall_time=0.00025, first=0, flat_area=-47.41262848751836, flat_time=0.02018, last=0, rise_time=0.00025, type='trap')\n",
            "gp_pre info:  namespace(amplitude=-783.1620166421928, area=-16.0, channel='y', delay=0, fall_time=0.00025, first=0, flat_area=-15.804209495839451, flat_time=0.02018, last=0, rise_time=0.00025, type='trap')\n",
            "gp_pre info:  namespace(amplitude=783.1620166421928, area=16.0, channel='y', delay=0, fall_time=0.00025, first=0, flat_area=15.804209495839451, flat_time=0.02018, last=0, rise_time=0.00025, type='trap')\n",
            "gp_pre info:  namespace(amplitude=2349.4860499265787, area=48.00000000000001, channel='y', delay=0, fall_time=0.00025, first=0, flat_area=47.41262848751836, flat_time=0.02018, last=0, rise_time=0.00025, type='trap')\n",
            "gp_pre info:  namespace(amplitude=-2153.69554576603, area=-43.99999999999999, channel='y', delay=0, fall_time=0.00025, first=0, flat_area=-43.461576113558486, flat_time=0.02018, last=0, rise_time=0.00025, type='trap')\n",
            "gp_pre info:  namespace(amplitude=-587.3715124816447, area=-12.000000000000002, channel='y', delay=0, fall_time=0.00025, first=0, flat_area=-11.85315712187959, flat_time=0.02018, last=0, rise_time=0.00025, type='trap')\n",
            "gp_pre info:  namespace(amplitude=978.9525208027411, area=20.0, channel='y', delay=0, fall_time=0.00025, first=0, flat_area=19.755261869799316, flat_time=0.02018, last=0, rise_time=0.00025, type='trap')\n",
            "gp_pre info:  namespace(amplitude=2545.276554087127, area=52.0, channel='y', delay=0, fall_time=0.00025, first=0, flat_area=51.36368086147822, flat_time=0.02018, last=0, rise_time=0.00025, type='trap')\n",
            "gp_pre info:  namespace(amplitude=-1957.9050416054822, area=-40.0, channel='y', delay=0, fall_time=0.00025, first=0, flat_area=-39.51052373959863, flat_time=0.02018, last=0, rise_time=0.00025, type='trap')\n",
            "gp_pre info:  namespace(amplitude=-391.5810083210964, area=-8.0, channel='y', delay=0, fall_time=0.00025, first=0, flat_area=-7.902104747919726, flat_time=0.02018, last=0, rise_time=0.00025, type='trap')\n",
            "gp_pre info:  namespace(amplitude=1174.7430249632894, area=24.000000000000004, channel='y', delay=0, fall_time=0.00025, first=0, flat_area=23.70631424375918, flat_time=0.02018, last=0, rise_time=0.00025, type='trap')\n",
            "gp_pre info:  namespace(amplitude=2741.067058247675, area=56.0, channel='y', delay=0, fall_time=0.00025, first=0, flat_area=55.314733235438084, flat_time=0.02018, last=0, rise_time=0.00025, type='trap')\n",
            "gp_pre info:  namespace(amplitude=-1762.1145374449338, area=-36.0, channel='y', delay=0, fall_time=0.00025, first=0, flat_area=-35.559471365638764, flat_time=0.02018, last=0, rise_time=0.00025, type='trap')\n",
            "gp_pre info:  namespace(amplitude=-195.7905041605482, area=-4.0, channel='y', delay=0, fall_time=0.00025, first=0, flat_area=-3.951052373959863, flat_time=0.02018, last=0, rise_time=0.00025, type='trap')\n",
            "gp_pre info:  namespace(amplitude=1370.5335291238375, area=28.0, channel='y', delay=0, fall_time=0.00025, first=0, flat_area=27.657366617719042, flat_time=0.02018, last=0, rise_time=0.00025, type='trap')\n",
            "gp_pre info:  namespace(amplitude=2936.857562408223, area=60.0, channel='y', delay=0, fall_time=0.00025, first=0, flat_area=59.265785609397945, flat_time=0.02018, last=0, rise_time=0.00025, type='trap')\n",
            "gp_pre info:  namespace(amplitude=-1566.3240332843857, area=-32.0, channel='y', delay=0, fall_time=0.00025, first=0, flat_area=-31.608418991678903, flat_time=0.02018, last=0, rise_time=0.00025, type='trap')\n",
            "gp_pre info:  namespace(amplitude=0.0, area=0.0, channel='y', delay=0, fall_time=0.00025, first=0, flat_area=0.0, flat_time=0.02018, last=0, rise_time=0.00025, type='trap')\n",
            "gp_pre info:  namespace(amplitude=1566.3240332843857, area=32.0, channel='y', delay=0, fall_time=0.00025, first=0, flat_area=31.608418991678903, flat_time=0.02018, last=0, rise_time=0.00025, type='trap')\n",
            "gp_pre info:  namespace(amplitude=-3132.6480665687714, area=-64.0, channel='y', delay=0, fall_time=0.00025, first=0, flat_area=-63.216837983357806, flat_time=0.02018, last=0, rise_time=0.00025, type='trap')\n",
            "gp_pre info:  namespace(amplitude=-1370.5335291238375, area=-28.0, channel='y', delay=0, fall_time=0.00025, first=0, flat_area=-27.657366617719042, flat_time=0.02018, last=0, rise_time=0.00025, type='trap')\n",
            "gp_pre info:  namespace(amplitude=195.7905041605482, area=4.0, channel='y', delay=0, fall_time=0.00025, first=0, flat_area=3.951052373959863, flat_time=0.02018, last=0, rise_time=0.00025, type='trap')\n",
            "gp_pre info:  namespace(amplitude=1762.1145374449338, area=36.0, channel='y', delay=0, fall_time=0.00025, first=0, flat_area=35.559471365638764, flat_time=0.02018, last=0, rise_time=0.00025, type='trap')\n",
            "gp_pre info:  namespace(amplitude=-2936.857562408223, area=-60.0, channel='y', delay=0, fall_time=0.00025, first=0, flat_area=-59.265785609397945, flat_time=0.02018, last=0, rise_time=0.00025, type='trap')\n",
            "gp_pre info:  namespace(amplitude=-1174.7430249632894, area=-24.000000000000004, channel='y', delay=0, fall_time=0.00025, first=0, flat_area=-23.70631424375918, flat_time=0.02018, last=0, rise_time=0.00025, type='trap')\n",
            "gp_pre info:  namespace(amplitude=391.5810083210964, area=8.0, channel='y', delay=0, fall_time=0.00025, first=0, flat_area=7.902104747919726, flat_time=0.02018, last=0, rise_time=0.00025, type='trap')\n",
            "gp_pre info:  namespace(amplitude=1957.9050416054822, area=40.0, channel='y', delay=0, fall_time=0.00025, first=0, flat_area=39.51052373959863, flat_time=0.02018, last=0, rise_time=0.00025, type='trap')\n",
            "gp_pre info:  namespace(amplitude=-2741.067058247675, area=-56.0, channel='y', delay=0, fall_time=0.00025, first=0, flat_area=-55.314733235438084, flat_time=0.02018, last=0, rise_time=0.00025, type='trap')\n",
            "gp_pre info:  namespace(amplitude=-978.9525208027411, area=-20.0, channel='y', delay=0, fall_time=0.00025, first=0, flat_area=-19.755261869799316, flat_time=0.02018, last=0, rise_time=0.00025, type='trap')\n",
            "gp_pre info:  namespace(amplitude=587.3715124816447, area=12.000000000000002, channel='y', delay=0, fall_time=0.00025, first=0, flat_area=11.85315712187959, flat_time=0.02018, last=0, rise_time=0.00025, type='trap')\n",
            "gp_pre info:  namespace(amplitude=2153.69554576603, area=43.99999999999999, channel='y', delay=0, fall_time=0.00025, first=0, flat_area=43.461576113558486, flat_time=0.02018, last=0, rise_time=0.00025, type='trap')\n",
            "gp_pre info:  namespace(amplitude=-2545.276554087127, area=-52.0, channel='y', delay=0, fall_time=0.00025, first=0, flat_area=-51.36368086147822, flat_time=0.02018, last=0, rise_time=0.00025, type='trap')\n"
          ],
          "name": "stdout"
        }
      ]
    },
    {
      "cell_type": "markdown",
      "metadata": {
        "id": "KKQiFX91jfPK"
      },
      "source": [
        "# 5. Examine sequence\n",
        "\n"
      ]
    },
    {
      "cell_type": "markdown",
      "metadata": {
        "id": "5rMG0zQQoR2Z"
      },
      "source": [
        "## Plot sequence"
      ]
    },
    {
      "cell_type": "code",
      "metadata": {
        "id": "__wNpV68jUJy",
        "outputId": "99699969-a69c-47f8-fd37-2e76d6139b1e",
        "colab": {
          "base_uri": "https://localhost:8080/",
          "height": 577
        }
      },
      "source": [
        "# Use inbuilt seq.plot method to see all waveforms (RF pulses, Gx, Gy, Gz, ADC)\n",
        "#plt.tight_layout() \n",
        "seq.plot(time_range=[0, 0.1*TR])"
      ],
      "execution_count": null,
      "outputs": [
        {
          "output_type": "display_data",
          "data": {
            "image/png": "[encoded data removed]",
            "text/plain": [
              "<Figure size 432x288 with 3 Axes>"
            ]
          },
          "metadata": {
            "tags": [],
            "needs_background": "light"
          }
        },
        {
          "output_type": "display_data",
          "data": {
            "image/png": "[encoded data removed]",
            "text/plain": [
              "<Figure size 432x288 with 3 Axes>"
            ]
          },
          "metadata": {
            "tags": [],
            "needs_background": "light"
          }
        }
      ]
    },
    {
      "cell_type": "markdown",
      "metadata": {
        "id": "5RXMqEnEoUJI"
      },
      "source": [
        "## Print sequence summary \n",
        "This cell generates a detailed header for the sequence. It takes about 3 minutes to run with the default parameters.\n"
      ]
    },
    {
      "cell_type": "code",
      "metadata": {
        "id": "6WF6oJPsocng",
        "outputId": "3d4f1ff8-d349-40e0-cb71-10f28bbf5705",
        "colab": {
          "base_uri": "https://localhost:8080/",
          "height": 308
        }
      },
      "source": [
        "print(seq.test_report())"
      ],
      "execution_count": null,
      "outputs": [
        {
          "output_type": "error",
          "ename": "KeyboardInterrupt",
          "evalue": "ignored",
          "traceback": [
            "\u001b[0;31m---------------------------------------------------------------------------\u001b[0m",
            "\u001b[0;31mKeyboardInterrupt\u001b[0m                         Traceback (most recent call last)",
            "\u001b[0;32m<ipython-input-25-74cdc6ac142f>\u001b[0m in \u001b[0;36m<module>\u001b[0;34m()\u001b[0m\n\u001b[0;32m----> 1\u001b[0;31m \u001b[0mprint\u001b[0m\u001b[0;34m(\u001b[0m\u001b[0mseq\u001b[0m\u001b[0;34m.\u001b[0m\u001b[0mtest_report\u001b[0m\u001b[0;34m(\u001b[0m\u001b[0;34m)\u001b[0m\u001b[0;34m)\u001b[0m\u001b[0;34m\u001b[0m\u001b[0;34m\u001b[0m\u001b[0m\n\u001b[0m",
            "\u001b[0;32m/usr/local/lib/python3.6/dist-packages/pypulseq/Sequence/sequence.py\u001b[0m in \u001b[0;36mtest_report\u001b[0;34m(self)\u001b[0m\n\u001b[1;32m    104\u001b[0m         \u001b[0mAnalyze\u001b[0m \u001b[0mthe\u001b[0m \u001b[0msequence\u001b[0m \u001b[0;32mand\u001b[0m \u001b[0;32mreturn\u001b[0m \u001b[0ma\u001b[0m \u001b[0mtext\u001b[0m \u001b[0mreport\u001b[0m\u001b[0;34m.\u001b[0m\u001b[0;34m\u001b[0m\u001b[0;34m\u001b[0m\u001b[0m\n\u001b[1;32m    105\u001b[0m         \"\"\"\n\u001b[0;32m--> 106\u001b[0;31m         \u001b[0;32mreturn\u001b[0m \u001b[0mext_test_report\u001b[0m\u001b[0;34m(\u001b[0m\u001b[0mself\u001b[0m\u001b[0;34m)\u001b[0m\u001b[0;34m\u001b[0m\u001b[0;34m\u001b[0m\u001b[0m\n\u001b[0m\u001b[1;32m    107\u001b[0m \u001b[0;34m\u001b[0m\u001b[0m\n\u001b[1;32m    108\u001b[0m     \u001b[0;32mdef\u001b[0m \u001b[0mset_definition\u001b[0m\u001b[0;34m(\u001b[0m\u001b[0mself\u001b[0m\u001b[0;34m,\u001b[0m \u001b[0mkey\u001b[0m\u001b[0;34m:\u001b[0m \u001b[0mstr\u001b[0m\u001b[0;34m,\u001b[0m \u001b[0mval\u001b[0m\u001b[0;34m:\u001b[0m \u001b[0mstr\u001b[0m\u001b[0;34m)\u001b[0m\u001b[0;34m:\u001b[0m\u001b[0;34m\u001b[0m\u001b[0;34m\u001b[0m\u001b[0m\n",
            "\u001b[0;32m/usr/local/lib/python3.6/dist-packages/pypulseq/Sequence/test_report.py\u001b[0m in \u001b[0;36mtest_report\u001b[0;34m(self)\u001b[0m\n\u001b[1;32m     19\u001b[0m     \u001b[0mduration\u001b[0m\u001b[0;34m,\u001b[0m \u001b[0mnum_blocks\u001b[0m\u001b[0;34m,\u001b[0m \u001b[0mevent_count\u001b[0m \u001b[0;34m=\u001b[0m \u001b[0mself\u001b[0m\u001b[0;34m.\u001b[0m\u001b[0mduration\u001b[0m\u001b[0;34m(\u001b[0m\u001b[0;34m)\u001b[0m\u001b[0;34m\u001b[0m\u001b[0;34m\u001b[0m\u001b[0m\n\u001b[1;32m     20\u001b[0m \u001b[0;34m\u001b[0m\u001b[0m\n\u001b[0;32m---> 21\u001b[0;31m     \u001b[0mk_traj_adc\u001b[0m\u001b[0;34m,\u001b[0m \u001b[0mk_traj\u001b[0m\u001b[0;34m,\u001b[0m \u001b[0mt_excitation\u001b[0m\u001b[0;34m,\u001b[0m \u001b[0mt_refocusing\u001b[0m\u001b[0;34m,\u001b[0m \u001b[0mt_adc\u001b[0m \u001b[0;34m=\u001b[0m \u001b[0mself\u001b[0m\u001b[0;34m.\u001b[0m\u001b[0mcalculate_kspace\u001b[0m\u001b[0;34m(\u001b[0m\u001b[0;34m)\u001b[0m\u001b[0;34m\u001b[0m\u001b[0;34m\u001b[0m\u001b[0m\n\u001b[0m\u001b[1;32m     22\u001b[0m \u001b[0;34m\u001b[0m\u001b[0m\n\u001b[1;32m     23\u001b[0m     \u001b[0mk_abs_adc\u001b[0m \u001b[0;34m=\u001b[0m \u001b[0mnp\u001b[0m\u001b[0;34m.\u001b[0m\u001b[0msqrt\u001b[0m\u001b[0;34m(\u001b[0m\u001b[0mnp\u001b[0m\u001b[0;34m.\u001b[0m\u001b[0msum\u001b[0m\u001b[0;34m(\u001b[0m\u001b[0mnp\u001b[0m\u001b[0;34m.\u001b[0m\u001b[0msquare\u001b[0m\u001b[0;34m(\u001b[0m\u001b[0mk_traj_adc\u001b[0m\u001b[0;34m)\u001b[0m\u001b[0;34m,\u001b[0m \u001b[0maxis\u001b[0m\u001b[0;34m=\u001b[0m\u001b[0;36m0\u001b[0m\u001b[0;34m)\u001b[0m\u001b[0;34m)\u001b[0m\u001b[0;34m\u001b[0m\u001b[0;34m\u001b[0m\u001b[0m\n",
            "\u001b[0;32m/usr/local/lib/python3.6/dist-packages/pypulseq/Sequence/sequence.py\u001b[0m in \u001b[0;36mcalculate_kspace\u001b[0;34m(self, trajectory_delay)\u001b[0m\n\u001b[1;32m    315\u001b[0m         \u001b[0mk\u001b[0m \u001b[0;34m=\u001b[0m \u001b[0;34m[\u001b[0m\u001b[0;36m0\u001b[0m\u001b[0;34m,\u001b[0m \u001b[0;36m0\u001b[0m\u001b[0;34m,\u001b[0m \u001b[0;36m0\u001b[0m\u001b[0;34m]\u001b[0m\u001b[0;34m\u001b[0m\u001b[0;34m\u001b[0m\u001b[0m\n\u001b[1;32m    316\u001b[0m         \u001b[0;32mfor\u001b[0m \u001b[0mi\u001b[0m \u001b[0;32min\u001b[0m \u001b[0mrange\u001b[0m\u001b[0;34m(\u001b[0m\u001b[0mgw\u001b[0m\u001b[0;34m.\u001b[0m\u001b[0mshape\u001b[0m\u001b[0;34m[\u001b[0m\u001b[0;36m1\u001b[0m\u001b[0;34m]\u001b[0m\u001b[0;34m)\u001b[0m\u001b[0;34m:\u001b[0m\u001b[0;34m\u001b[0m\u001b[0;34m\u001b[0m\u001b[0m\n\u001b[0;32m--> 317\u001b[0;31m             \u001b[0mk\u001b[0m \u001b[0;34m+=\u001b[0m \u001b[0mgw\u001b[0m\u001b[0;34m[\u001b[0m\u001b[0;34m:\u001b[0m\u001b[0;34m,\u001b[0m \u001b[0mi\u001b[0m\u001b[0;34m]\u001b[0m \u001b[0;34m*\u001b[0m \u001b[0mself\u001b[0m\u001b[0;34m.\u001b[0m\u001b[0mgrad_raster_time\u001b[0m\u001b[0;34m\u001b[0m\u001b[0;34m\u001b[0m\u001b[0m\n\u001b[0m\u001b[1;32m    318\u001b[0m             \u001b[0mk_traj\u001b[0m\u001b[0;34m[\u001b[0m\u001b[0;34m:\u001b[0m\u001b[0;34m,\u001b[0m \u001b[0mi\u001b[0m\u001b[0;34m]\u001b[0m \u001b[0;34m=\u001b[0m \u001b[0mk\u001b[0m\u001b[0;34m\u001b[0m\u001b[0;34m\u001b[0m\u001b[0m\n\u001b[1;32m    319\u001b[0m             \u001b[0;32mif\u001b[0m \u001b[0mlen\u001b[0m\u001b[0;34m(\u001b[0m\u001b[0mnp\u001b[0m\u001b[0;34m.\u001b[0m\u001b[0mwhere\u001b[0m\u001b[0;34m(\u001b[0m\u001b[0mi_excitation\u001b[0m \u001b[0;34m==\u001b[0m \u001b[0mi\u001b[0m \u001b[0;34m+\u001b[0m \u001b[0;36m1\u001b[0m\u001b[0;34m)\u001b[0m\u001b[0;34m[\u001b[0m\u001b[0;36m0\u001b[0m\u001b[0;34m]\u001b[0m\u001b[0;34m)\u001b[0m \u001b[0;34m>=\u001b[0m \u001b[0;36m1\u001b[0m\u001b[0;34m:\u001b[0m\u001b[0;34m\u001b[0m\u001b[0;34m\u001b[0m\u001b[0m\n",
            "\u001b[0;31mKeyboardInterrupt\u001b[0m: "
          ]
        }
      ]
    },
    {
      "cell_type": "markdown",
      "metadata": {
        "id": "xW-4OgNNjlYL"
      },
      "source": [
        "# 6. Export sequence as .seq file\n",
        "\n",
        "THe following cell writes the sequence into a .seq file and initiates its download from the browser. "
      ]
    },
    {
      "cell_type": "code",
      "metadata": {
        "id": "AK7n1OMajkZx",
        "outputId": "791b5f72-b83f-42d1-a47c-08c2d06d4d45",
        "colab": {
          "base_uri": "https://localhost:8080/",
          "height": 17
        }
      },
      "source": [
        "# Make copy of seq for writing to file\n",
        "# The copy is needed because seq.write changes numerical data within the seq object for unit conversion  \n",
        "#seq_name = f\"irse_ms_N{n}_Ns{ns_per_TR}_TI{int(TI*1000)}_TE{int(TE*1000)}_TR{int(TR*1000)}_FA{int(fa)}deg_dwell-10us.seq\"\n",
        "seq_name = f\"tse_ms_FOV{int(fov*1000)}mm_N{Nf}_Ns{n_slices}_TR{int(TR*1000)}ms_TE{int(TE*1000)}ms_{n_echo}echoes_dwell{adc.dwell*1e6}us.seq\"\n",
        "seq_to_write = copy.deepcopy(seq)\n",
        "seq_to_write.write(seq_name)\n",
        "\n",
        "\n",
        "from google.colab import files\n",
        "# Upload local files to Colab VM\n",
        "#uploaded = files.upload()\n",
        "# Download Colab VM fiels to local\n",
        "files.download(seq_name)\n",
        "files.download('pe_info.mat')\n",
        "\n",
        "\n"
      ],
      "execution_count": null,
      "outputs": [
        {
          "output_type": "display_data",
          "data": {
            "application/javascript": [
              "\n",
              "    async function download(id, filename, size) {\n",
              "      if (!google.colab.kernel.accessAllowed) {\n",
              "        return;\n",
              "      }\n",
              "      const div = document.createElement('div');\n",
              "      const label = document.createElement('label');\n",
              "      label.textContent = `Downloading \"${filename}\": `;\n",
              "      div.appendChild(label);\n",
              "      const progress = document.createElement('progress');\n",
              "      progress.max = size;\n",
              "      div.appendChild(progress);\n",
              "      document.body.appendChild(div);\n",
              "\n",
              "      const buffers = [];\n",
              "      let downloaded = 0;\n",
              "\n",
              "      const channel = await google.colab.kernel.comms.open(id);\n",
              "      // Send a message to notify the kernel that we're ready.\n",
              "      channel.send({})\n",
              "\n",
              "      for await (const message of channel.messages) {\n",
              "        // Send a message to notify the kernel that we're ready.\n",
              "        channel.send({})\n",
              "        if (message.buffers) {\n",
              "          for (const buffer of message.buffers) {\n",
              "            buffers.push(buffer);\n",
              "            downloaded += buffer.byteLength;\n",
              "            progress.value = downloaded;\n",
              "          }\n",
              "        }\n",
              "      }\n",
              "      const blob = new Blob(buffers, {type: 'application/binary'});\n",
              "      const a = document.createElement('a');\n",
              "      a.href = window.URL.createObjectURL(blob);\n",
              "      a.download = filename;\n",
              "      div.appendChild(a);\n",
              "      a.click();\n",
              "      div.remove();\n",
              "    }\n",
              "  "
            ],
            "text/plain": [
              "<IPython.core.display.Javascript object>"
            ]
          },
          "metadata": {
            "tags": []
          }
        },
        {
          "output_type": "display_data",
          "data": {
            "application/javascript": [
              "download(\"download_552fb535-8c63-4ec5-b5fd-779d59b7373b\", \"tse_ms_FOV250mm_N32_Ns1_TR2000ms_TE50ms_4echoes_dwell200.0us.seq\", 59871)"
            ],
            "text/plain": [
              "<IPython.core.display.Javascript object>"
            ]
          },
          "metadata": {
            "tags": []
          }
        },
        {
          "output_type": "display_data",
          "data": {
            "application/javascript": [
              "\n",
              "    async function download(id, filename, size) {\n",
              "      if (!google.colab.kernel.accessAllowed) {\n",
              "        return;\n",
              "      }\n",
              "      const div = document.createElement('div');\n",
              "      const label = document.createElement('label');\n",
              "      label.textContent = `Downloading \"${filename}\": `;\n",
              "      div.appendChild(label);\n",
              "      const progress = document.createElement('progress');\n",
              "      progress.max = size;\n",
              "      div.appendChild(progress);\n",
              "      document.body.appendChild(div);\n",
              "\n",
              "      const buffers = [];\n",
              "      let downloaded = 0;\n",
              "\n",
              "      const channel = await google.colab.kernel.comms.open(id);\n",
              "      // Send a message to notify the kernel that we're ready.\n",
              "      channel.send({})\n",
              "\n",
              "      for await (const message of channel.messages) {\n",
              "        // Send a message to notify the kernel that we're ready.\n",
              "        channel.send({})\n",
              "        if (message.buffers) {\n",
              "          for (const buffer of message.buffers) {\n",
              "            buffers.push(buffer);\n",
              "            downloaded += buffer.byteLength;\n",
              "            progress.value = downloaded;\n",
              "          }\n",
              "        }\n",
              "      }\n",
              "      const blob = new Blob(buffers, {type: 'application/binary'});\n",
              "      const a = document.createElement('a');\n",
              "      a.href = window.URL.createObjectURL(blob);\n",
              "      a.download = filename;\n",
              "      div.appendChild(a);\n",
              "      a.click();\n",
              "      div.remove();\n",
              "    }\n",
              "  "
            ],
            "text/plain": [
              "<IPython.core.display.Javascript object>"
            ]
          },
          "metadata": {
            "tags": []
          }
        },
        {
          "output_type": "display_data",
          "data": {
            "application/javascript": [
              "download(\"download_0240d86c-a4d7-49b7-9141-5b26eb08adad\", \"pe_info.mat\", 520)"
            ],
            "text/plain": [
              "<IPython.core.display.Javascript object>"
            ]
          },
          "metadata": {
            "tags": []
          }
        }
      ]
    },
    {
      "cell_type": "markdown",
      "metadata": {
        "id": "VEh3cZTCZ1KJ"
      },
      "source": [
        "# References\n",
        "1. Layton, K. J., Kroboth, S., Jia, F., Littin, S., Yu, H., Leupold, J., ... & Zaitsev, M. (2017). Pulseq: a rapid and hardware‐independent pulse sequence prototyping framework. Magnetic resonance in medicine, 77(4), 1544-1552."
      ]
    }
  ]
}